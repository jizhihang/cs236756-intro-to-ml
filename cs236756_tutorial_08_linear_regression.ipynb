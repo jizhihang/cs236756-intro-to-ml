{
 "cells": [
  {
   "cell_type": "markdown",
   "metadata": {
    "slideshow": {
     "slide_type": "slide"
    }
   },
   "source": [
    "# <img src=\"https://img.icons8.com/dusk/64/000000/mind-map.png\" style=\"height:50px;display:inline\"> CS 236756 - Technion - Intro to Machine Learning\n",
    "---\n",
    "#### Tal Daniel\n",
    "\n",
    "## Tutorial 08 - Linear Regression\n",
    "---\n",
    "<img src=\"./assets/tut_08_intro.jpg\" style=\"height:200px\">"
   ]
  },
  {
   "cell_type": "markdown",
   "metadata": {
    "slideshow": {
     "slide_type": "slide"
    }
   },
   "source": [
    "### <img src=\"https://img.icons8.com/bubbles/50/000000/checklist.png\" style=\"height:50px;display:inline\"> Agenda\n",
    "---\n",
    "* [The Regression Problem](#-The-Regression-Problem)\n",
    "    * [Classification vs. Regression](#-Classification-vs.-Regression)\n",
    "* [Linear Regression](#-Linear-Regression)\n",
    "    * [Residual Analysis](#-Residual-Analysis)\n",
    "    * [The Least Squares Criterion & Solution](#-Closed-Form-Leaset-Squares-Solution)   \n",
    "* [Examples](#-Example---Polynomial-Fitting-(Polynomial-Regression))\n",
    "    * [Polynomial Fitting](#-Example---Polynomial-Fitting-(Polynomial-Regression))\n",
    "    * [Cosine Fitting](#-Example---Cosine-Fitting)\n",
    "* [Regularized Least Squares](#-Regularization)\n",
    "    * [Bias-Variance Tradeoff](#-The-Bias-Variance-Tradeoff)\n",
    "    * [Lasso vs. Ridge Regression](#-Ridge-Regression)\n",
    "* [Recommended Videos](#-Recommended-Videos)\n",
    "* [Credits](#-Credits)"
   ]
  },
  {
   "cell_type": "code",
   "execution_count": 1,
   "metadata": {
    "slideshow": {
     "slide_type": "skip"
    }
   },
   "outputs": [],
   "source": [
    "# imports for the tutorial\n",
    "import numpy as np\n",
    "import pandas as pd\n",
    "import matplotlib.pyplot as plt\n",
    "%matplotlib notebook"
   ]
  },
  {
   "cell_type": "markdown",
   "metadata": {
    "slideshow": {
     "slide_type": "slide"
    }
   },
   "source": [
    "## <img src=\"https://img.icons8.com/nolan/96/000000/polyline.png\" style=\"height:50px;display:inline\"> The Regression Problem\n",
    "---\n",
    "### <img src=\"https://img.icons8.com/cotton/64/000000/fencing-swords.png\" style=\"height:50px;display:inline\"> Classification vs. Regression\n",
    "---\n",
    "* **Classification** is about predicting a label and **Regression** is about predicting a quantity."
   ]
  },
  {
   "cell_type": "markdown",
   "metadata": {
    "slideshow": {
     "slide_type": "subslide"
    }
   },
   "source": [
    "* Predictive modeling is the problem of developing a model using historical data to make a prediction on new data.\n",
    "    * Classification predictive modeling is the task of approximating a mapping function (f) from input variables (X) to *discrete* (categories, labels) output variables (y).\n",
    "        * A classification algorithm may predict a continuous value, but the continuous value is in the form of a probability for a class label.\n",
    "    * Regression predictive modeling is the task of approximating a mapping function (f) from input variables (X) to a *continuous* output variable (y).\n",
    "        * A regression algorithm may predict a discrete value, but the discrete value in the form of an integer quantity.\n",
    "* In some cases, it is possible to convert a regression problem to a classification problem. For example, the quantity to be predicted could be converted into discrete buckets (e.g. class 1: 0-50, class 2: 51-100)."
   ]
  },
  {
   "cell_type": "markdown",
   "metadata": {
    "slideshow": {
     "slide_type": "subslide"
    }
   },
   "source": [
    "|  | <center>Classification</center> | <center>Regression</center> \n",
    "| --- | --- | --- |\n",
    "|<center> Input </center>| <center> Feature vector $X$ </center>| <center>Feature vector $X$</center>\n",
    "|<center> Output </center>| <center> Label/Category - **Discrete** </center>| <center>Value - **Continuous**</center>\n",
    "|<center> MLE </center>| <center> $\\hat{\\theta} = \\underset{\\theta \\in \\mathcal{R}^{p}}{\\mathrm{argmax}} \\log p(D \\mid \\theta)$</center>| <center>$\\hat{\\theta} = \\underset{\\theta \\in \\mathcal{R}^{p}}{\\mathrm{argmax}} \\log p(D\\mid \\theta)$</center>\n",
    "|<center> Appropriate Models </center>| <center> Decision Trees, SVM, Neural Networks... </center>| <center>Decision Trees, Linear Regression Models, SVM, Neural Networks...</center>"
   ]
  },
  {
   "cell_type": "markdown",
   "metadata": {
    "slideshow": {
     "slide_type": "slide"
    }
   },
   "source": [
    "### <img src=\"https://img.icons8.com/dusk/64/000000/classroom.png\" style=\"height:50px;display:inline\"> Example - House Price Model\n",
    "---\n",
    "Given the following dataset:\n",
    "\n",
    "| <center>Square Feet (X)</center> | <center>House Price in \\$1000 (y)</center> |\n",
    "| --- | --- |\n",
    "|<center> 1400 </center>| <center> 245 </center>|\n",
    "|<center> 1600 </center>| <center> 312 </center>|\n",
    "|<center> 1700 </center>| <center> 279 </center>|\n",
    "|<center> 1875 </center>| <center> 308 </center>|\n",
    "|<center> 1100 </center>| <center> 199 </center>|\n",
    "|<center> 1550 </center>| <center> 219 </center>|\n",
    "|<center> 2350 </center>| <center> 405 </center>|\n",
    "|<center> 2450 </center>| <center> 324 </center>|\n",
    "|<center> 1425 </center>| <center> 319 </center>|\n",
    "|<center> 1700 </center>| <center> 255 </center>|"
   ]
  },
  {
   "cell_type": "markdown",
   "metadata": {
    "slideshow": {
     "slide_type": "subslide"
    }
   },
   "source": [
    "* We wish to predict the price of a house given its size\n",
    "* More formally:\n",
    "    * Given a house of size $x$, what is the price $y=f(x)$ of the house?"
   ]
  },
  {
   "cell_type": "code",
   "execution_count": 2,
   "metadata": {
    "slideshow": {
     "slide_type": "skip"
    }
   },
   "outputs": [],
   "source": [
    "def plot_possible_approx():\n",
    "    x = [1400, 1600, 1700, 1875, 1100, 1550, 2350, 2450, 1425, 1700]\n",
    "    y = [245, 312, 279, 308, 199, 219, 405, 324, 319, 255]\n",
    "    ap_x_1 = [1100, 2350]\n",
    "    ap_y_1 = [219, 405]\n",
    "    ap_x_2 = [1400, 1425, 1550, 1875, 2500]\n",
    "    ap_y_2 = [245, 310, 219, 308, 360]\n",
    "    fig = plt.figure(figsize=(8,5))\n",
    "    ax = fig.add_subplot(111)\n",
    "    ax.scatter(x, y, label=\"original data\", color='b')\n",
    "    ax.plot(ap_x_1, ap_y_1, label='approximation 1', color='k')\n",
    "    ax.plot(ap_x_2, ap_y_2, label='approximation 2', color='r')\n",
    "    ax.set_xlabel(\"Square Feet\")\n",
    "    ax.set_ylabel(\"House Price in $1000\")\n",
    "    ax.set_title(\"House Price vs. House Size\")\n",
    "    ax.grid()\n",
    "    ax.legend()"
   ]
  },
  {
   "cell_type": "code",
   "execution_count": 3,
   "metadata": {
    "slideshow": {
     "slide_type": "subslide"
    }
   },
   "outputs": [
    {
     "data": {
      "image/png": "[encoded data removed]",
      "text/plain": [
       "<Figure size 576x360 with 1 Axes>"
      ]
     },
     "metadata": {
      "needs_background": "light"
     },
     "output_type": "display_data"
    }
   ],
   "source": [
    "# let's plot the dataset\n",
    "plot_possible_approx()"
   ]
  },
  {
   "cell_type": "markdown",
   "metadata": {
    "slideshow": {
     "slide_type": "subslide"
    }
   },
   "source": [
    "* Which function $y=f(x)$ to choose?\n",
    "* Assuming a **linear** connection between dependent and independent variables **limits** the search space (constraining the problem)."
   ]
  },
  {
   "cell_type": "markdown",
   "metadata": {
    "slideshow": {
     "slide_type": "slide"
    }
   },
   "source": [
    "## <img src=\"https://img.icons8.com/dusk/64/000000/line.png\" style=\"height:50px;display:inline\"> Linear Regression\n",
    "---\n",
    "A linear model makes a prediction by computing a weighted sum of the input features, plus a constant called the *bias term* (also called *intercept* sometimes).\n",
    "\n",
    "We denote:\n",
    "* $\\hat{y}$ - the predicted value\n",
    "* $n$ - number of features\n",
    "* $x_i$ is the $i^{th}$ feature value\n",
    "* $\\theta_j$ is the $j^{th}$ model parameter, where $\\theta_0$ is the bias weight ($\\theta_0 \\cdot 1$)\n",
    "\n",
    "The *Linear Regression* model prediction: $$ \\hat{y} = \\theta_0 + \\theta_1 x_1 + ... + \\theta_n x_n $$\n",
    "In *vector* form: $$ \\hat{y}=h_{\\theta} (x) =\\theta^T \\cdot x $$"
   ]
  },
  {
   "cell_type": "markdown",
   "metadata": {
    "slideshow": {
     "slide_type": "slide"
    }
   },
   "source": [
    "### <img src=\"https://img.icons8.com/dusk/64/000000/us-dollar.png\" style=\"height:50px;display:inline\"> Linear Regression Cost Function & Connection to MLE\n",
    "---\n",
    "How do we train a linear regression model?\n",
    "\n",
    "* Training a model means tuning its parameters so that the model best fits to the training data (train set)\n",
    "* The most common performance measure on a regression model is the Root Mean Square Error (RMSE), thus, we need to find the value of $\\theta$ that minimzes the RMSE. In practice, it is simpler to minimize the Mean Square Error - **MSE** (the same values that minimize the RMSE, also minimize the MSE).\n",
    "* The MSE Cost Function: $$ MSE(X, h_{\\theta}) = \\frac{1}{m}\\sum_{i=1}^m (\\theta^T \\cdot x^{(i)} - y^{(i)})^2 $$\n",
    "    * Pay attention to notations: $m$ is the number of samples, where $n$ is the number of features. That is, each sample has $n$ components."
   ]
  },
  {
   "cell_type": "markdown",
   "metadata": {
    "slideshow": {
     "slide_type": "subslide"
    }
   },
   "source": [
    "#### <img src=\"https://img.icons8.com/dusk/64/000000/broken-link.png\" style=\"height:30px;display:inline\"> Connection to MLE\n",
    "---\n",
    "* Maximum Likelihood Estimation (MLE) is the most common way to estimate parameters of a statistical model by calculating: $$\\hat{\\theta} = \\underset{\\theta}{\\mathrm{argmax}} \\log p(y|x, \\theta) $$\n",
    "* The Negative Log Likelhood (NLL) under **i.i.d** assumption: $$ NLL(\\theta) = -\\log p(D|\\theta) = -\\sum_{i=1}^n \\log p(y_i|x_i, \\theta) $$\n",
    "* If we assume that $$ P(y|x, \\theta) = \\mathcal{N}(\\theta^Tx, \\sigma^2) $$\n",
    "    * Note: Why would we assume that? When collecting data from the real world, it is safe to assume that it would not be deterministic, that is, we assume that there is some underlying distribution. More formally, in the case of linear regression, we assume that the $y$ is indeed a linear deterministic function of the input, but with added noise $\\epsilon \\sim \\mathcal{N}(0, \\sigma^2)$ which leads to $y = \\theta^T x + \\epsilon \\rightarrow p(y|x, \\theta) = \\mathcal{N}(\\theta^T x, \\sigma^2)$"
   ]
  },
  {
   "cell_type": "markdown",
   "metadata": {
    "slideshow": {
     "slide_type": "subslide"
    }
   },
   "source": [
    "* We get: $$ NLL(\\theta) = -\\sum_{i=1}^n \\log \\big[ \\big( \\frac{1}{2\\pi \\sigma^2} \\big)^{\\frac{1}{2}} e^{-\\frac{1}{2\\sigma^2}(y_i - \\theta^Tx_i)^2} \\big] = -\\frac{N}{2} \\log (2\\pi \\sigma^2) + \\frac{1}{2\\sigma^2} \\sum_{i=1}^n (y_i - \\theta^Tx_i)^2 $$\n",
    "\n",
    "* Thus, **maximizing the log-likelihood** is equivalent to **minimizing the negative-log-likelihood** w.r.t to $\\theta$: $$ \\underset{\\theta}{\\mathrm{argmin}}\\frac{1}{2\\sigma^2} \\sum_{i=1}^n (y_i - \\theta^Tx_i)^2 =  \\underset{\\theta}{\\mathrm{argmin}} \\sum_{i=1}^n (y_i - \\theta^Tx_i)^2 = \\underset{\\theta}{\\mathrm{argmin}} \\frac{1}{n} \\sum_{i=1}^n (y_i - \\theta^Tx_i)^2 = MSE(\\theta) $$\n",
    "    * The equalities are since $\\sigma, n$ do not depend on $\\theta$"
   ]
  },
  {
   "cell_type": "markdown",
   "metadata": {
    "slideshow": {
     "slide_type": "slide"
    }
   },
   "source": [
    "### <img src=\"https://img.icons8.com/bubbles/100/000000/home.png\" style=\"height:50px;display:inline\">  Example Cont. - A Linear Model for the House Prices\n",
    "---\n",
    "* One independent variable (house size) which \"explains\" the dependent variable (house price)\n",
    "\n",
    "<img src=\"./assets/tut_08_lr_1.jpg\" style=\"height:200px\">"
   ]
  },
  {
   "cell_type": "markdown",
   "metadata": {
    "slideshow": {
     "slide_type": "subslide"
    }
   },
   "source": [
    "<img src=\"./assets/tut_08_lr_2.jpg\" style=\"height:200px\">"
   ]
  },
  {
   "cell_type": "markdown",
   "metadata": {
    "slideshow": {
     "slide_type": "subslide"
    }
   },
   "source": [
    "* **Estimated Regression Model**:\n",
    "    * The sample regression line provides an estimate of the population regression line ($\\hat{y} = \\mathbb{E}(y)$)\n",
    "\n",
    "<img src=\"./assets/tut_08_lr_3.jpg\" style=\"height:200px\">"
   ]
  },
  {
   "cell_type": "markdown",
   "metadata": {
    "slideshow": {
     "slide_type": "subslide"
    }
   },
   "source": [
    "* **Linear Regression Assumptions**:\n",
    "    * The underlying relationship between the $x$ variable and the $y$ variable is *linear*\n",
    "    * Error values $\\epsilon$ are statistically independent\n",
    "    * The probabiity distribution of the errors is *normal* and independent of $x$ with mean 0 and an equal but *unknown* variance for all values of $x$: $p(\\epsilon) = \\mathcal{N}(0, \\sigma^2)$ "
   ]
  },
  {
   "cell_type": "code",
   "execution_count": 4,
   "metadata": {
    "slideshow": {
     "slide_type": "skip"
    }
   },
   "outputs": [],
   "source": [
    "def plot_lls_sol(x, y, theta_ls):\n",
    "    x_with_bias = np.concatenate([x, np.ones(x.shape)], axis=1)\n",
    "    fig = plt.figure(figsize=(8,5))\n",
    "    ax = fig.add_subplot(111)\n",
    "    ax.scatter(x, y, label=\"original data\", color='b')\n",
    "    ax.plot(x, x_with_bias @ theta_ls, label='least-square solution', color='r')\n",
    "    ax.set_xlabel(\"Square Feet\")\n",
    "    ax.set_ylabel(\"House Price in $1000\")\n",
    "    ax.set_title(\"House Price vs. House Size\")\n",
    "    ax.grid()\n",
    "    ax.legend()"
   ]
  },
  {
   "cell_type": "code",
   "execution_count": 6,
   "metadata": {
    "slideshow": {
     "slide_type": "subslide"
    }
   },
   "outputs": [
    {
     "name": "stdout",
     "output_type": "stream",
     "text": [
      "learned parameters:\n",
      "[[ 0.10976774]\n",
      " [98.24832962]]\n",
      "y_hat = 0.110x + 98.248330 (square feet)\n"
     ]
    }
   ],
   "source": [
    "# solve the regression problem for the house price example\n",
    "x = [1400, 1600, 1700, 1875, 1100, 1550, 2350, 2450, 1425, 1700]\n",
    "y = [245, 312, 279, 308, 199, 219, 405, 324, 319, 255]\n",
    "x = np.array(x).reshape(-1, 1)\n",
    "y = np.array(y).reshape(-1, 1)\n",
    "x_with_bias = np.concatenate([x, np.ones(x.shape)], axis=1)\n",
    "theta_ls = np.linalg.inv(x_with_bias.T @ x_with_bias) @ x_with_bias.T @ y # least-squares solution\n",
    "print(\"learned parameters:\")\n",
    "print(theta_ls)\n",
    "print(\"y_hat = {:.3f}x + {:3f} (square feet)\".format(theta_ls[0][0], theta_ls[1][0]))"
   ]
  },
  {
   "cell_type": "code",
   "execution_count": 7,
   "metadata": {
    "slideshow": {
     "slide_type": "subslide"
    }
   },
   "outputs": [
    {
     "data": {
      "image/png": "[encoded data removed]",
      "text/plain": [
       "<Figure size 576x360 with 1 Axes>"
      ]
     },
     "metadata": {
      "needs_background": "light"
     },
     "output_type": "display_data"
    }
   ],
   "source": [
    "# plot\n",
    "plot_lls_sol(x, y, theta_ls)"
   ]
  },
  {
   "cell_type": "markdown",
   "metadata": {
    "slideshow": {
     "slide_type": "slide"
    }
   },
   "source": [
    "### <img src=\"https://img.icons8.com/dusk/64/000000/timer.png\" style=\"height:50px;display:inline\"> Residual Analysis\n",
    "---\n",
    "* Purposes\n",
    "    * Examine for **linearity assumption**\n",
    "\n",
    "<img src=\"./assets/tut_08_res_1.jpg\" style=\"height:200px\">"
   ]
  },
  {
   "cell_type": "markdown",
   "metadata": {
    "slideshow": {
     "slide_type": "subslide"
    }
   },
   "source": [
    "* Examine for constant variance for all levels of x\n",
    "\n",
    "<img src=\"./assets/tut_08_res_2.jpg\" style=\"height:200px\">\n",
    "\n",
    "* Evaluate normal distribution assumption"
   ]
  },
  {
   "cell_type": "markdown",
   "metadata": {
    "slideshow": {
     "slide_type": "subslide"
    }
   },
   "source": [
    " * Graphical Analysis of Residuals\n",
    "    * Can plot residuals vs. x\n",
    "    * Can create histogram of residuals to check for normality"
   ]
  },
  {
   "cell_type": "code",
   "execution_count": 8,
   "metadata": {
    "slideshow": {
     "slide_type": "subslide"
    }
   },
   "outputs": [
    {
     "data": {
      "text/plain": [
       "<matplotlib.legend.Legend at 0x174bfec15c0>"
      ]
     },
     "execution_count": 8,
     "metadata": {},
     "output_type": "execute_result"
    },
    {
     "data": {
      "image/png": "[encoded data removed]",
      "text/plain": [
       "<Figure size 576x360 with 1 Axes>"
      ]
     },
     "metadata": {
      "needs_background": "light"
     },
     "output_type": "display_data"
    }
   ],
   "source": [
    "residuals = x_with_bias @ theta_ls - y\n",
    "# plot\n",
    "fig = plt.figure(figsize=(8,5))\n",
    "ax = fig.add_subplot(111)\n",
    "ax.scatter(x, residuals, label='residual', color='r')\n",
    "ax.fill_between(np.sort(x.reshape(-1,)), np.max(residuals), alpha=0.4, color=\"g\")\n",
    "ax.fill_between(np.sort(x.reshape(-1,)), np.min(residuals), alpha=0.4, color=\"b\")\n",
    "ax.set_xlabel(\"Square Feet\")\n",
    "ax.set_ylabel(\"House Price in $1000\")\n",
    "ax.set_title(\"House Price vs. House Size\")\n",
    "ax.grid()\n",
    "ax.legend()"
   ]
  },
  {
   "cell_type": "markdown",
   "metadata": {
    "slideshow": {
     "slide_type": "slide"
    }
   },
   "source": [
    "### <img src=\"https://img.icons8.com/doodle/96/000000/close-sign.png\" style=\"height:50px;display:inline\"> Closed-Form Leaset-Squares Solution\n",
    "---\n",
    "To find the value of $\\theta$ that minimizes the cost function, there is a *closed-form solution* - a mathemtical equation that gives the result directly. It is also called the **Normal Equation**. We will now derive it.\n",
    "\n",
    "* We wish to find a solution for $\\hat{y} = X \\theta$\n",
    "* The parameters $\\theta$ are obtained by minimzing the *sum of squared* errors or residuals (SSE): $$ SSE(\\theta) = \\sum_{i=1}^n (\\theta^T x_i - y_i)^2 = ||X \\theta -y ||_2^2 = (X\\theta -y)^T(X\\theta - y) = \\theta^TX^TX\\theta -\\theta^TX^Ty - y^TX\\theta +y^Ty$$\n",
    "* Minimizing w.r.t to $\\theta$: $$\\nabla_{\\theta}SSE(\\theta) = 2X^TX\\theta - 2X^Ty = 0 \\rightarrow \\theta^{*} = (X^TX)^{-1}X^Ty $$\n",
    "* The matrix $(X^TX)^{-1}X^T$ is the *Pseudo Inverse* of $X$"
   ]
  },
  {
   "cell_type": "markdown",
   "metadata": {
    "slideshow": {
     "slide_type": "slide"
    }
   },
   "source": [
    "### <img src=\"https://img.icons8.com/dusk/64/000000/double-down.png\" style=\"height:50px;display:inline\"> Gradient Descent Solution\n",
    "---\n",
    "Iterative solution, as we have seen in tutorial 7\n",
    "\n",
    "#### <img src=\"https://img.icons8.com/dusk/64/000000/waypoint-map.png\" style=\"height:30px;display:inline\">Stochastic Gradient Descent (Mini-Batch Gradient Descent)\n",
    "---\n",
    "* **Pseudocode**:\n",
    "    * **Require**: Learning rate $\\alpha_k$\n",
    "    * **Require**: Initial parameter $w$\n",
    "    * **While** stopping criterion not met **do**\n",
    "        * Sample a minibatch of $m$ examples from the training set ($m=1$ for SGD)\n",
    "        * Set $\\tilde{X} = [x_1,...,x_m] $ with corresponding targets $\\tilde{Y} = [y_1,...,y_m]$\n",
    "        * Compute gradient: $g \\leftarrow 2\\tilde{X}^T\\tilde{X}w - 2\\tilde{X}^T \\tilde{Y}$\n",
    "        * Apply update: $w \\leftarrow w - \\alpha_k g$\n",
    "        * $k \\leftarrow k + 1$\n",
    "    * **end while**"
   ]
  },
  {
   "cell_type": "markdown",
   "metadata": {
    "slideshow": {
     "slide_type": "slide"
    }
   },
   "source": [
    "### <img src=\"https://img.icons8.com/dusk/64/000000/graph.png\" style=\"height:50px;display:inline\"> Basis Function Expansion\n",
    "---\n",
    "* What if the data is actually more complex than a simple linear line? But your data has just one feature per sample.\n",
    "* Linear Regression can be made to model **non-linear** relationships by replacing $x$ with some non-linear functions of the inputs $\\phi(x)$: $$ y = \\theta_0 + \\theta \\phi(x) + \\epsilon $$ This is also called **feature extraction**.\n",
    "* The model is **still linear** in the parameters $\\theta$ - it is still called *linear regression*."
   ]
  },
  {
   "cell_type": "markdown",
   "metadata": {
    "slideshow": {
     "slide_type": "slide"
    }
   },
   "source": [
    "### <img src=\"https://img.icons8.com/nolan/64/000000/fit-to-width.png\" style=\"height:50px;display:inline\"> Example - Polynomial Fitting (Polynomial Regression)\n",
    "---\n",
    "* Given $L$ measurements $\\{x_k, y_k\\}_{k=1}^L$ originating from the $n^{th}$ degree polynomial with additive white Gaussian noise $ y= h(x) + \\epsilon$ where: $h(x)=\\sum_{i=0}^n \\theta_ix^i$ and $\\epsilon \\sim \\mathcal{N}(0, \\sigma^2)$ i.i.d\n",
    "* **Goal**: find the coefficients $\\{\\theta_i\\}_{i=0}^n$ to best fit the polynomial $h(x)$\n",
    "* For each measurement $(x_k,y_k)$ we will fit the following model: $$ y_k = \\theta_0 x_k^0 + \\theta_1 x_k^1 + \\theta_2 x_k^2 +... + \\theta_n x_k^n , \\forall k = 1,2,...,L$$"
   ]
  },
  {
   "cell_type": "markdown",
   "metadata": {
    "slideshow": {
     "slide_type": "subslide"
    }
   },
   "source": [
    "<img src=\"./assets/tut_08_poly_1.jpg\" style=\"height:300px\">"
   ]
  },
  {
   "cell_type": "markdown",
   "metadata": {
    "slideshow": {
     "slide_type": "subslide"
    }
   },
   "source": [
    " \n",
    "* **The Loss Function**: the optimization goal is to minimize the mean squared error $$ f_{\\theta}(x) = \\sum_{k=1}^L (y_k - (\\theta_0 x_k^0 + \\theta_1 x_k^1 + \\theta_2 x_k^2 +... + \\theta_n x_k^n))^2 $$\n",
    "* Denote: $$ \\Phi(X) = \\begin{bmatrix}\n",
    "  x_1^0 & \\cdots & x_1^n \\\\\n",
    "  \\vdots & \\vdots & \\vdots \\\\\n",
    "  x_L^0 & \\cdots & x_L^n\n",
    " \\end{bmatrix}, \\theta = \\begin{bmatrix}\n",
    "  \\theta_0 \\\\\n",
    "  \\vdots \\\\\n",
    "  \\theta_n \n",
    " \\end{bmatrix}, y =  \\begin{bmatrix}\n",
    "  y_1 \\\\\n",
    "  \\vdots \\\\\n",
    "  y_L\n",
    " \\end{bmatrix}$$\n",
    "* **The Least-Squares Solution**: $$ \\theta^{*} = (\\Phi(X)^T\\Phi(X))^{-1}\\Phi(X)^Ty $$\n",
    "* Example: we will fit $y=0.5x^2 + x + 2 + \\epsilon$"
   ]
  },
  {
   "cell_type": "code",
   "execution_count": 9,
   "metadata": {
    "slideshow": {
     "slide_type": "subslide"
    }
   },
   "outputs": [],
   "source": [
    "# let's try this\n",
    "L = 100 # num of samples\n",
    "X = np.sort(6 * np.random.rand(L, 1) - 3, axis=0)\n",
    "epsilon = np.random.randn(L , 1)\n",
    "y = 0.5 * X**2 + X + 2 + epsilon"
   ]
  },
  {
   "cell_type": "code",
   "execution_count": 10,
   "metadata": {
    "slideshow": {
     "slide_type": "subslide"
    }
   },
   "outputs": [
    {
     "data": {
      "text/plain": [
       "Text(0.5, 1.0, 'y = 0.5*x^2 + x + 2 + epsilon')"
      ]
     },
     "execution_count": 10,
     "metadata": {},
     "output_type": "execute_result"
    },
    {
     "data": {
      "image/png": "[encoded data removed]",
      "text/plain": [
       "<Figure size 576x360 with 1 Axes>"
      ]
     },
     "metadata": {
      "needs_background": "light"
     },
     "output_type": "display_data"
    }
   ],
   "source": [
    "# let's see it\n",
    "fig = plt.figure(figsize=(8,5))\n",
    "ax = fig.add_subplot(111)\n",
    "ax.scatter(X, y)\n",
    "ax.grid()\n",
    "ax.set_xlabel(\"x\")\n",
    "ax.set_ylabel(\"y\")\n",
    "ax.set_title(\"y = 0.5*x^2 + x + 2 + epsilon\")"
   ]
  },
  {
   "cell_type": "code",
   "execution_count": 12,
   "metadata": {
    "slideshow": {
     "slide_type": "skip"
    }
   },
   "outputs": [],
   "source": [
    "def plot_poly_lls(X, y, phi_x, theta_ls, title=\"\"):\n",
    "    fig = plt.figure(figsize=(8,5))\n",
    "    ax = fig.add_subplot(111)\n",
    "    ax.scatter(X, y, label=\"original\")\n",
    "    ax.plot(X, phi_x @ theta_ls, label=\"least-squares solution\", color='r')\n",
    "    ax.grid()\n",
    "    ax.legend()\n",
    "    ax.set_xlabel(\"x\")\n",
    "    ax.set_ylabel(\"y\")\n",
    "    ax.set_title(title)"
   ]
  },
  {
   "cell_type": "code",
   "execution_count": 13,
   "metadata": {
    "slideshow": {
     "slide_type": "subslide"
    }
   },
   "outputs": [
    {
     "name": "stdout",
     "output_type": "stream",
     "text": [
      "(100, 3)\n",
      "theta:\n",
      "[[1.98949504]\n",
      " [0.86612449]\n",
      " [0.5144204 ]]\n"
     ]
    }
   ],
   "source": [
    "# 2 ways - manually or using scikit-learn\n",
    "# manually\n",
    "degree = 2\n",
    "phi_x = np.concatenate([X**d for d in range(degree + 1)], axis=1)  # feature extraction\n",
    "print(phi_x.shape)\n",
    "theta_ls = np.linalg.inv(phi_x.T @ phi_x) @ phi_x.T @ y\n",
    "print(\"theta:\")\n",
    "print(theta_ls)"
   ]
  },
  {
   "cell_type": "code",
   "execution_count": 14,
   "metadata": {
    "slideshow": {
     "slide_type": "subslide"
    }
   },
   "outputs": [
    {
     "data": {
      "image/png": "[encoded data removed]",
      "text/plain": [
       "<Figure size 576x360 with 1 Axes>"
      ]
     },
     "metadata": {
      "needs_background": "light"
     },
     "output_type": "display_data"
    }
   ],
   "source": [
    "# plot\n",
    "plot_poly_lls(X, y, phi_x, theta_ls, title=\"y = 0.5*x^2 + x + 2 + epsilon\")"
   ]
  },
  {
   "cell_type": "code",
   "execution_count": 15,
   "metadata": {
    "slideshow": {
     "slide_type": "subslide"
    }
   },
   "outputs": [
    {
     "name": "stdout",
     "output_type": "stream",
     "text": [
      "(100, 3)\n",
      "theta:\n",
      "[[1.98949504]\n",
      " [0.86612449]\n",
      " [0.5144204 ]]\n"
     ]
    }
   ],
   "source": [
    "# using scikit-learn\n",
    "from sklearn.preprocessing import PolynomialFeatures\n",
    "poly_features = PolynomialFeatures(degree=2, include_bias=True)\n",
    "phi_x = poly_features.fit_transform(X)\n",
    "print(phi_x.shape)\n",
    "# continue the same\n",
    "theta_ls = np.linalg.inv(phi_x.T @ phi_x) @ phi_x.T @ y\n",
    "print(\"theta:\")\n",
    "print(theta_ls)"
   ]
  },
  {
   "cell_type": "code",
   "execution_count": 16,
   "metadata": {
    "slideshow": {
     "slide_type": "subslide"
    }
   },
   "outputs": [
    {
     "data": {
      "image/png": "[encoded data removed]",
      "text/plain": [
       "<Figure size 576x360 with 1 Axes>"
      ]
     },
     "metadata": {
      "needs_background": "light"
     },
     "output_type": "display_data"
    }
   ],
   "source": [
    "# plot\n",
    "plot_poly_lls(X, y, phi_x, theta_ls, title=\"y = 0.5*x^2 + x + 2 + epsilon\")"
   ]
  },
  {
   "cell_type": "markdown",
   "metadata": {
    "slideshow": {
     "slide_type": "slide"
    }
   },
   "source": [
    "### <img src=\"https://img.icons8.com/nolan/64/000000/fit-to-width.png\" style=\"height:50px;display:inline\"> Example - Cosine Fitting\n",
    "---\n",
    "* Given $L$ measurements $\\{x_k, y_k\\}_{k=1}^L$ originating from the sinusoidal signal $h(x)$ with additive white Gaussian noise $ y= h(x) + \\epsilon$ where: $h(x)=A\\cos(2\\pi f_0x_k + \\psi)$ and $\\epsilon \\sim \\mathcal{N}(0, \\sigma^2)$ i.i.d and the frequency $f_0$ is given.\n",
    "* **Goal**: find the amplitude $A$ and the phase $\\psi$"
   ]
  },
  {
   "cell_type": "markdown",
   "metadata": {
    "slideshow": {
     "slide_type": "subslide"
    }
   },
   "source": [
    "<img src=\"./assets/tut_08_cos.jpg\" style=\"height:300px\">"
   ]
  },
  {
   "cell_type": "markdown",
   "metadata": {
    "slideshow": {
     "slide_type": "subslide"
    }
   },
   "source": [
    "* **The Loss Function**: the optimization goal is to minimize the mean squared error $$ f_{\\theta}(x) = \\sum_{k=1}^L (y_k - A\\cos(2\\pi f_0x_k + \\psi))^2 $$\n",
    "    * The problem is not linear, not even in parameters\n",
    "    * We will use the following trigonometric identity: $$ \\cos(\\alpha +\\beta) = \\cos(\\alpha)\\cos(\\beta) - \\sin(\\alpha)\\sin(\\beta) \\rightarrow A\\cos(2\\pi f_0x_k + \\psi) = A\\cos(\\psi)\\cos(2\\pi f_0 x_k) - A\\sin(\\psi)sin(2\\pi f_0 x_k) $$\n",
    "    * We will also use the following transformation from polar coordinates: $$ \\theta_1 = A \\cos(\\psi) $$ $$ \\theta_2 = A \\sin(\\psi) $$\n",
    "    * This yields: $$ f_{\\theta}(x) = \\sum_{k=1}^L (y_k - (\\theta_1 \\cos(2\\pi f_0x_k) - \\theta_2 \\sin(2\\pi f_0x_k)))^2 $$\n",
    "        * The problem is now linear!"
   ]
  },
  {
   "cell_type": "markdown",
   "metadata": {
    "slideshow": {
     "slide_type": "subslide"
    }
   },
   "source": [
    "\n",
    "    \n",
    "* Denote: $$ \\Phi(X) = \\begin{bmatrix}\n",
    "  \\cos(2\\pi f_0 x_1) & -\\sin(2\\pi f_0 x_1) \\\\\n",
    "  \\vdots & \\vdots \\\\\n",
    "  \\cos(2\\pi f_0 x_L) & -\\sin(2\\pi f_0 x_L)\n",
    " \\end{bmatrix}, \\theta = \\begin{bmatrix}\n",
    "  \\theta_1 \\\\\n",
    "  \\theta_2 \n",
    " \\end{bmatrix}, y =  \\begin{bmatrix}\n",
    "  y_1 \\\\\n",
    "  \\vdots \\\\\n",
    "  y_L\n",
    " \\end{bmatrix}$$\n",
    "* **The Least-Squares Solution**: $$ \\theta^{*} = (\\Phi(X)^T\\Phi(X))^{-1}\\Phi(X)^Ty $$\n",
    "* Finally: $$ A = \\sqrt{\\theta_1^2 +\\theta_2^2} $$ $$ \\psi = \\arctan\\frac{\\theta_2}{\\theta_1} $$\n",
    "* Example: we will fit $y=10\\cos(2\\pi \\cdot 0.8 \\cdot x + \\frac{\\pi}{3}) +\\epsilon$"
   ]
  },
  {
   "cell_type": "code",
   "execution_count": 17,
   "metadata": {
    "slideshow": {
     "slide_type": "subslide"
    }
   },
   "outputs": [],
   "source": [
    "L = 100 # num of samples\n",
    "x = np.sort(6 * np.random.rand(L, 1) - 3, axis=0)\n",
    "epsilon = np.random.randn(L , 1)\n",
    "f_0 = 0.8\n",
    "psi = np.pi / 3\n",
    "A = 10\n",
    "y = A * np.cos(2 * np.pi * f_0 * x + psi) + epsilon"
   ]
  },
  {
   "cell_type": "code",
   "execution_count": 18,
   "metadata": {
    "slideshow": {
     "slide_type": "subslide"
    }
   },
   "outputs": [
    {
     "data": {
      "text/plain": [
       "Text(0.5, 1.0, 'y = 10cos(2*pi*0.8*x + pi/3 ) + epsilon')"
      ]
     },
     "execution_count": 18,
     "metadata": {},
     "output_type": "execute_result"
    },
    {
     "data": {
      "image/png": "[encoded data removed]",
      "text/plain": [
       "<Figure size 576x360 with 1 Axes>"
      ]
     },
     "metadata": {
      "needs_background": "light"
     },
     "output_type": "display_data"
    }
   ],
   "source": [
    "# let's see it\n",
    "fig = plt.figure(figsize=(8,5))\n",
    "ax = fig.add_subplot(111)\n",
    "ax.scatter(x, y)\n",
    "ax.grid()\n",
    "ax.set_xlabel(\"x\")\n",
    "ax.set_ylabel(\"y\")\n",
    "ax.set_title(\"y = 10cos(2*pi*0.8*x + pi/3 ) + epsilon\")"
   ]
  },
  {
   "cell_type": "code",
   "execution_count": 21,
   "metadata": {
    "slideshow": {
     "slide_type": "skip"
    }
   },
   "outputs": [],
   "source": [
    "def plot_cos_lls_sol(x, y, y_pred):\n",
    "    fig = plt.figure(figsize=(8,5))\n",
    "    ax = fig.add_subplot(111)\n",
    "    ax.scatter(x, y, label=\"original\")\n",
    "    ax.plot(x, y_pred, label=\"least-squares solution\", color='r')\n",
    "    ax.grid()\n",
    "    ax.legend()\n",
    "    ax.set_xlabel(\"x\")\n",
    "    ax.set_ylabel(\"y\")\n",
    "    ax.set_title(\"y = 10cos(2*pi*0.8*x + pi/3 ) + epsilon\")"
   ]
  },
  {
   "cell_type": "code",
   "execution_count": 19,
   "metadata": {
    "slideshow": {
     "slide_type": "subslide"
    }
   },
   "outputs": [
    {
     "name": "stdout",
     "output_type": "stream",
     "text": [
      "(100, 2)\n",
      "theta:\n",
      "[[4.91360833]\n",
      " [8.62629552]]\n"
     ]
    }
   ],
   "source": [
    "phi_x = np.concatenate([np.cos(2 * np.pi * f_0 * x), -np.sin(2 * np.pi * f_0 * x)], axis=1)\n",
    "print(phi_x.shape)\n",
    "theta_ls = np.linalg.inv(phi_x.T @ phi_x) @ phi_x.T @ y\n",
    "print(\"theta:\")\n",
    "print(theta_ls)\n",
    "A_pred = np.sqrt(np.sum(np.square(theta_ls)))\n",
    "psi_pred = np.arctan(theta_ls[1] / theta_ls[0])\n",
    "y_pred = A_pred * np.cos(2 * np.pi * f_0 * x + psi_pred)"
   ]
  },
  {
   "cell_type": "code",
   "execution_count": 23,
   "metadata": {
    "slideshow": {
     "slide_type": "subslide"
    }
   },
   "outputs": [
    {
     "data": {
      "image/png": "[encoded data removed]",
      "text/plain": [
       "<Figure size 576x360 with 1 Axes>"
      ]
     },
     "metadata": {
      "needs_background": "light"
     },
     "output_type": "display_data"
    }
   ],
   "source": [
    "# let's see it\n",
    "plot_cos_lls_sol(x, y, y_pred)"
   ]
  },
  {
   "cell_type": "markdown",
   "metadata": {
    "slideshow": {
     "slide_type": "slide"
    }
   },
   "source": [
    "## <img src=\"https://img.icons8.com/color/96/000000/infinity-large.png\" style=\"height:50px;display:inline\"> Regularization\n",
    "---\n",
    "* As we have already seen on previous tutorials, a good way to **reduce** overfitting is to regularize (i.e. constrain) the model. \n",
    "* The fewer degrees of freedom it has, the harder it will be to overfit the data. \n",
    "    * For example, in *Polynomial Fitting*, a simple regularization would be to reduce the number of polynomial degrees. \n",
    "* We will look at **Ridge & Lasso Regressions**, but first, we will review one of the most important concepts of ML."
   ]
  },
  {
   "cell_type": "markdown",
   "metadata": {
    "slideshow": {
     "slide_type": "slide"
    }
   },
   "source": [
    "### <img src=\"https://img.icons8.com/color/96/000000/wrestling.png\" style=\"height:50px;display:inline\"> The Bias-Variance Tradeoff\n",
    "---\n",
    "An important theoretical result of statistics and ML is the fact the **the model generalization error** can be expressed as a sum of 3 different errors: **bias, variance and irreducible error**.\n",
    "* Given a **true** (but unknown) function $F(x)$ with noise $F(x) = f + \\epsilon$, we seek to estimate it based on $n$ samples from a set $\\mathcal{D}$. We denote the **regression function** as $g(x; \\mathcal{D})$.\n",
    "* The error of the regression model is given by: $$ MSE = \\mathbb{E}_{\\mathcal{D}} \\big[(F(x) -  g(x; \\mathcal{D}) )^2 \\big] $$\n",
    "* The total error can be decomposed into 3 terms: $$ E[(F - g )^2] = E[(f + \\epsilon -g)^2] =  E[(f + \\epsilon -g +E[g] - E[g])^2] = ... = (f - E[g])^2 +E[\\epsilon^2] +E\\big[(E[g] - g)^2\\big]$$ $$ = Bias[g]^2 +\\sigma^2 +Var[g]$$\n",
    "\n",
    "\n",
    "* <a href=\"https://en.wikipedia.org/wiki/Bias%E2%80%93variance_tradeoff\">Full derivation on Wikipedia </a>"
   ]
  },
  {
   "cell_type": "markdown",
   "metadata": {
    "slideshow": {
     "slide_type": "subslide"
    }
   },
   "source": [
    "* **Bias** - $(f - E[g])$: It is the difference between the expected value and the true value. This part of the generalization error is due to wrong assumptions (e.g. assuming the data is linear when it is actually quadratic). A *high-bias* model is most likely to **underfit** the training data.\n",
    "* **Variance** - $E\\big[(E[g] - g)^2\\big]$: This part is due to the model's sensitivity to small variations in the training data. A model with many degrees of freedom (such as high-degree polynomial model) is likely to have **high variance**, and thus tend to **overfit** the training data. Low varaince - the estimate of $F$ does not change much as the training set varies.\n",
    "* **Irreducible Error** - $\\sigma^2$: This part is due to the noisiness of the data itself. The only way to reduce this part of the error is to clean up the data (e.g., fix the data sources, detect and remove outliers...)."
   ]
  },
  {
   "cell_type": "markdown",
   "metadata": {
    "slideshow": {
     "slide_type": "subslide"
    }
   },
   "source": [
    "* **Note** - if we do not separate the real function from the noise, then the bias is considered the **expected difference between the model and the true function (+noise)** : $Bias[g] = E[g - F]$\n",
    "* **Increasing** the model's *complexity* will typically **increase its variance** and **reduce its bias**. On the other hand, **reducing** the complexity **increases its bias** and **reduces its variance**."
   ]
  },
  {
   "cell_type": "markdown",
   "metadata": {
    "slideshow": {
     "slide_type": "subslide"
    }
   },
   "source": [
    "<img src=\"./assets/tut_08_bias_var.jpg\" style=\"height:300px\">\n",
    "\n",
    "<a href=\"http://scott.fortmann-roe.com/docs/BiasVariance.html\">Image Source</a>"
   ]
  },
  {
   "cell_type": "markdown",
   "metadata": {
    "slideshow": {
     "slide_type": "subslide"
    }
   },
   "source": [
    "<img src=\"./assets/tut_08_bias_var_2.jpg\" style=\"height:500px\">\n",
    "\n",
    "* Image from Duda, R. O., Hart, P. E., & Stork, D. G. (2012). Pattern classification. John Wiley & Sons"
   ]
  },
  {
   "cell_type": "markdown",
   "metadata": {
    "slideshow": {
     "slide_type": "slide"
    }
   },
   "source": [
    "### <img src=\"https://img.icons8.com/dusk/64/000000/2.png\" style=\"height:50px;display:inline\"> Ridge Regression\n",
    "---\n",
    "* *Ridge Regression* (also called *Tikhonov Regularization*) is a regularized version of Linear Regression where the *regularization term* is equal to $\\lambda \\sum_{i=1}^n \\theta_i^2$ ($l_2$) and is added to to the cost function.\n",
    "* This form of cost function **forces** the algorithm not only to fit the data but also **keep the model weights as small as possible**.\n",
    "* The regularization term is only added during **training**.\n",
    "* The **hyperparameter** $\\lambda$ controls how much to regularize the model.\n",
    "    * **The Shrinking Effect**\n",
    "        * When $\\lambda \\to 0$ we resort back to the (unconstrained) Least Squares solution.\n",
    "        * As $\\lambda$ increases, then all the weights end up very close to zero and the result is a **flat line** going through the data's mean."
   ]
  },
  {
   "cell_type": "markdown",
   "metadata": {
    "slideshow": {
     "slide_type": "subslide"
    }
   },
   "source": [
    "* **Ridge Regression Cost Function**: $$ J(\\theta) = MSE(\\theta) +\\lambda \\sum_i\\theta_i^2 $$\n",
    "* **In Vector Form**: $$ J(\\theta) = ||X \\theta - y ||_2^2 +\\lambda ||\\theta ||_2^2 = (X \\theta - y)^T(X \\theta - y) + \\lambda\\theta^T\\theta$$\n",
    "* **The Gradient**: $$\\nabla_{\\theta}J(\\theta) = 2(X^TX\\theta - X^Ty) + 2\\lambda\\theta $$\n",
    "* **The Closed-Form Solution**: $$ \\theta^{*} = (X^TX +\\lambda I)^{-1}X^Ty $$"
   ]
  },
  {
   "cell_type": "markdown",
   "metadata": {
    "slideshow": {
     "slide_type": "subslide"
    }
   },
   "source": [
    "* In Scikit-Learn:\n",
    "    * Closed-Form:\n",
    "        * `from sklearn.linear_model import Ridge`\n",
    "        * `ridge_reg = Ridge(alpha=1, solver='cholesky')`\n",
    "        * `ridge_reg.fit(X, y)`\n",
    "        * `ridge_reg.predict([values])`\n",
    "    * SGD:\n",
    "        * `sgd_reg = SGDRegressor(penalty='l2')`\n",
    "        * `sgd_reg.fit(X, y)`\n",
    "        * `sgd_reg.predict([values])`"
   ]
  },
  {
   "cell_type": "markdown",
   "metadata": {
    "slideshow": {
     "slide_type": "subslide"
    }
   },
   "source": [
    "* <a style=\"color:red\"> Important Notes </a>\n",
    "    * Sometimes the bias weight $\\theta_0$ is not regularized, and the sum starts from $i=1$, in vector form, the identity matrix $I$ is changed so the top-left value (first value on the diagonal) is zero.\n",
    "    * It is important to **scale** the data (using `StandardScaler` for example) before performing Ridge Regression, as it is very sensitive to the scale of the input features. This is actually true for most regularized models."
   ]
  },
  {
   "cell_type": "markdown",
   "metadata": {
    "slideshow": {
     "slide_type": "subslide"
    }
   },
   "source": [
    "* <br><img src=\"./assets/tut_08_alpha.jpg\" style=\"height:400px\">\n",
    "\n",
    "<a href=\"https://www.analyticsvidhya.com/blog/2016/01/complete-tutorial-ridge-lasso-regression-python/\">Image Source </a>"
   ]
  },
  {
   "cell_type": "markdown",
   "metadata": {
    "slideshow": {
     "slide_type": "slide"
    }
   },
   "source": [
    "### <img src=\"https://img.icons8.com/dusk/64/000000/1.png\" style=\"height:50px;display:inline\"> LASSO Regression\n",
    "---\n",
    "* *LASSO (Least Absolute Shrinkage and Selection Operator) Regression* is just like Ridge, but instead of $l_2$, it uses $l_1$ norm of the weight vector.\n",
    "* * **LASSO Regression Cost Function**: $$ J(\\theta) = MSE(\\theta) +\\lambda \\sum_i|\\theta_i| $$\n",
    "* **In Vector Form**: $$ J(\\theta) = ||X \\theta - y ||_2^2 +\\lambda ||\\theta ||_1 $$"
   ]
  },
  {
   "cell_type": "markdown",
   "metadata": {
    "slideshow": {
     "slide_type": "subslide"
    }
   },
   "source": [
    "* The LASSO cost function is **not differentiable** at $\\theta_i=0$, but Gradient Descent still works if we use the *sub-gradient vector*: $$ g(\\theta,J) = \\nabla_{\\theta} MSE(\\theta) + \\lambda \\begin{bmatrix}\n",
    "  sign(\\theta_1) \\\\\n",
    "  \\vdots \\\\\n",
    "  sign(\\theta_n)\n",
    " \\end{bmatrix}, sign(\\theta_i)= \\begin{cases}\n",
    "    -1       & \\quad \\text{if } \\theta_i < 0 \\\\\n",
    "    0       & \\quad \\text{if } \\theta_i = 0 \\\\\n",
    "    +1  & \\quad \\text{if } \\theta_i > 0 \n",
    "  \\end{cases}$$ "
   ]
  },
  {
   "cell_type": "markdown",
   "metadata": {
    "slideshow": {
     "slide_type": "subslide"
    }
   },
   "source": [
    "* LASSO Regression tends to **eliminate the weights of the least important features** (i.e., set to them zero). It automatically performs **Feature Selection** and outputs a *sparse* model (few non-zero weights).\n",
    "    * **Ridge** regression will tend to shrink the large weights while hardly shrinking the smaller weights at all. In **LASSO** regression, the shrinkage will be directly proportionate to the importance of the feature in the model.\n",
    "    * Since $\\lambda$ is an arbitrarily selected constant, some feature weights can reach zero, meaning that these features will not be included in the model at all. And that is the built-in feature selection of LASSO regression.\n",
    "    * In other words, ridge regression will try to find a good model with small-scale features possible while LASSO regression will try to find a model with as few features as possible.\n",
    "* $l_1$ regularization is much more **robust to outliers**."
   ]
  },
  {
   "cell_type": "markdown",
   "metadata": {
    "slideshow": {
     "slide_type": "subslide"
    }
   },
   "source": [
    "* In Scikit-Learn:\n",
    "    * Algorithmic:\n",
    "        * `from sklearn.linear_model import Lasso`\n",
    "        * `ridge_reg = Lasso(alpha=0.1)`\n",
    "        * `ridge_reg.fit(X, y)`\n",
    "        * `ridge_reg.predict([values])`\n",
    "    * SGD:\n",
    "        * `sgd_reg = SGDRegressor(penalty='l1')`\n",
    "        * `sgd_reg.fit(X, y)`\n",
    "        * `sgd_reg.predict([values])`"
   ]
  },
  {
   "cell_type": "markdown",
   "metadata": {
    "slideshow": {
     "slide_type": "subslide"
    }
   },
   "source": [
    "<img src=\"./assets/tut_08_alpha_2.jpg\" style=\"height:400px\">\n",
    "\n",
    "<a href=\"https://www.analyticsvidhya.com/blog/2016/01/complete-tutorial-ridge-lasso-regression-python/\">Image Source </a>"
   ]
  },
  {
   "cell_type": "markdown",
   "metadata": {
    "slideshow": {
     "slide_type": "subslide"
    }
   },
   "source": [
    "<img src=\"./assets/tut_08_lass_ridge.jpg\" style=\"height:300px\">\n",
    "\n",
    "* While LASSO is more robust to outliers and performs feature selection, Ridge provides a more balanced minimization of the weights."
   ]
  },
  {
   "cell_type": "markdown",
   "metadata": {
    "slideshow": {
     "slide_type": "slide"
    }
   },
   "source": [
    "### <img src=\"https://img.icons8.com/dusk/64/000000/plus-2-math.png\" style=\"height:50px;display:inline\"> Other Regularizations\n",
    "---\n",
    "* **ElasticNet** - a combination between Ridge and Lasso (both $l_1$ and $l_2$ regularizations)\n",
    "* A more generalized regularizer: $$ \\frac{1}{2}\\sum_{i=1}^n (\\theta^Tx_i - y_i)^2 + \\lambda \\sum_{j=0}^M |\\theta_j|^q$$"
   ]
  },
  {
   "cell_type": "markdown",
   "metadata": {
    "slideshow": {
     "slide_type": "subslide"
    }
   },
   "source": [
    "<img src=\"./assets/tut_08_reg.jpg\" style=\"height:200px\">"
   ]
  },
  {
   "cell_type": "markdown",
   "metadata": {
    "slideshow": {
     "slide_type": "slide"
    }
   },
   "source": [
    "### <img src=\"https://img.icons8.com/bubbles/50/000000/video-playlist.png\" style=\"height:50px;display:inline\"> Recommended Videos\n",
    "---\n",
    "#### <img src=\"https://img.icons8.com/cute-clipart/64/000000/warning-shield.png\" style=\"height:30px;display:inline\"> Warning!\n",
    "* These videos do not replace the lectures and tutorials.\n",
    "* Please use these to get a better understanding of the material, and not as an alternative to the written material.\n",
    "\n",
    "#### Video By Subject\n",
    "\n",
    "* Linear Regression - <a href=\"https://www.youtube.com/watch?v=HZ4cvaztQEs\">Lecture 3 | Machine Learning (Stanford)</a>\n",
    "    * <a href=\"https://www.youtube.com/watch?v=_21o_ylL0q4\">Machine Learning Lecture 13 \"Linear / Ridge Regression\" -Cornell CS4780</a>\n",
    "* Bias/Variance Trade Off - <a href=\"https://www.youtube.com/watch?v=SjQyLhQIXSM\">Bias/Variance (C2W1L02)</a>\n",
    "    * <a href=\"https://www.youtube.com/watch?v=zUJbRO0Wavo\">Machine Learning Lecture 19 \"Bias Variance Decomposition\" -Cornell CS4780</a>\n",
    "* Regularization - <a href=\"https://www.youtube.com/watch?v=sO4ZirJh9ds\">Linear regression (6): Regularization</a>"
   ]
  },
  {
   "cell_type": "markdown",
   "metadata": {
    "slideshow": {
     "slide_type": "skip"
    }
   },
   "source": [
    "## <img src=\"https://img.icons8.com/dusk/64/000000/prize.png\" style=\"height:50px;display:inline\"> Credits\n",
    "---\n",
    "* Icons from <a href=\"https://icons8.com/\">Icon8.com</a> - https://icons8.com\n",
    "* Datasets from <a href=\"https://www.kaggle.com/\">Kaggle</a> - https://www.kaggle.com/\n",
    "* Examples and code snippets were taken from <a href=\"http://shop.oreilly.com/product/0636920052289.do\">\"Hands-On Machine Learning with Scikit-Learn and TensorFlow\"</a>"
   ]
  }
 ],
 "metadata": {
  "kernelspec": {
   "display_name": "Python 3",
   "language": "python",
   "name": "python3"
  },
  "language_info": {
   "codemirror_mode": {
    "name": "ipython",
    "version": 3
   },
   "file_extension": ".py",
   "mimetype": "text/x-python",
   "name": "python",
   "nbconvert_exporter": "python",
   "pygments_lexer": "ipython3",
   "version": "3.6.9"
  }
 },
 "nbformat": 4,
 "nbformat_minor": 2
}
