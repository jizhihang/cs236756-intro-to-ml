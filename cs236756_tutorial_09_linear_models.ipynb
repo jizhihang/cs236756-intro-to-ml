{
 "cells": [
  {
   "cell_type": "markdown",
   "metadata": {
    "slideshow": {
     "slide_type": "slide"
    }
   },
   "source": [
    "# <img src=\"https://img.icons8.com/dusk/64/000000/mind-map.png\" style=\"height:50px;display:inline\"> CS 236756 - Technion - Intro to Machine Learning\n",
    "---\n",
    "#### Tal Daniel\n",
    "\n",
    "## Tutorial 09 - Linear Models\n",
    "---"
   ]
  },
  {
   "cell_type": "markdown",
   "metadata": {
    "slideshow": {
     "slide_type": "slide"
    }
   },
   "source": [
    "### <img src=\"https://img.icons8.com/bubbles/50/000000/checklist.png\" style=\"height:50px;display:inline\"> Agenda\n",
    "---\n",
    "* [Definition](#-Definition-of-Linear-Models)\n",
    "* [Discriminative Models](#-Discriminative-Models)\n",
    "    * [Perceptron](#-The-Perceptron)\n",
    "    * [Least Mean Square - LMS (Adaptive Linear Neuron - ADALINE)](#-Least-Mean-Square---LMS-(Adaptive-Linear-Neuron---ADALINE))\n",
    "    * [Logistic Regression](#-Logistic-Regression)\n",
    "* [Generative Models](#-Generative-Models)\n",
    "    * [Maximum A Posteriori - MAP](#-Maximum-A-Posteriori-(MAP))\n",
    "    * [Quadratic Discriminant Analysis - QDA](#-Gaussian-Assumption---Quadratic-Discriminant-Analysis---QDA)\n",
    "    * [Naive Bayes](#-Gaussian-Assumption---Naive-Bayes-Classifier)\n",
    "    * [Linear Discriminant Analysis - LDA](#-Gaussian-Assumption---Linear-Discriminant-Analysis---LDA)\n",
    "* [One vs. All Classification](#-One-Vs.-All-Classification)\n",
    "* [Recommended Videos](#-Recommended-Videos)\n",
    "* [Credits](#-Credits)"
   ]
  },
  {
   "cell_type": "code",
   "execution_count": 1,
   "metadata": {
    "slideshow": {
     "slide_type": "skip"
    }
   },
   "outputs": [],
   "source": [
    "# imports for the tutorial\n",
    "import numpy as np\n",
    "import pandas as pd\n",
    "import matplotlib.pyplot as plt\n",
    "%matplotlib notebook"
   ]
  },
  {
   "cell_type": "markdown",
   "metadata": {
    "slideshow": {
     "slide_type": "slide"
    }
   },
   "source": [
    "### <img src=\"https://img.icons8.com/dusk/64/000000/define-location.png\" style=\"height:50px;display:inline\"> Definition of Linear Models\n",
    "---\n",
    "Methods that give **linear decision boundries** between classes $$ \\{ x| w^Tx + w_0 =0\\} $$\n",
    "where $x$ are the data points. Given binary classification problem with classes 0 and 1, when $w^Tx + w_0 \\geq 0$ then points are usually classified as 1 and otherwise as 0. "
   ]
  },
  {
   "cell_type": "markdown",
   "metadata": {
    "slideshow": {
     "slide_type": "subslide"
    }
   },
   "source": [
    "<img src=\"./assets/tut_09_lin_models.jpg\" style=\"height:200px\">\n",
    "\n",
    "* In statistical classification, including machine learning, two main approaches are called the **generative** approach and the **discriminative** approach. \n",
    "* These compute classifiers by different approaches, differing in the degree of statistical modeling."
   ]
  },
  {
   "cell_type": "markdown",
   "metadata": {
    "slideshow": {
     "slide_type": "slide"
    }
   },
   "source": [
    "## <img src=\"https://img.icons8.com/nolan/64/000000/categorize.png\" style=\"height:50px;display:inline\"> Discriminative Models\n",
    "---\n",
    "* **Discriminative models** are a class of models used in statistical classification, especially in supervised machine learning. A discriminative classifier tries to build a model just by depending on the observed data while learning how to do the classification from the given statistics.  \n",
    "    * Comparing with the generative models, discriminative models make fewer assumptions on the distributions but depends heavily on the quality of the data.\n",
    "    * For example, given a set of labeled pictures of dog and rabbit, discriminative models will be matching a new, unlabeled picture to a most similar labeled picture and then give out the label class, a dog or a rabbit.\n",
    "* The typical discriminative learning approaches include Logistic Regression (LR), Support Vector Machine (SVM), conditional random fields (CRFs) (specified over an undirected graph), and others."
   ]
  },
  {
   "cell_type": "markdown",
   "metadata": {
    "slideshow": {
     "slide_type": "slide"
    }
   },
   "source": [
    "### <img src=\"https://img.icons8.com/plasticine/100/000000/mind-map.png\" style=\"height:50px;display:inline\"> The Perceptron\n",
    "---\n",
    "* One of the first and simplest linear model.\n",
    "* Based on a *linear threshold unit* (LTU): the input and output are numbers (not binary values), and each connection is associated with a weight.\n",
    "* The LTU computes a weighted sum of its inputs: $z = w_1x_1 + w_2x_2 +....+w_nx_n = w^Tx$, and then it applies a **step function** to that sum and outputs the result: $$ h_w(x) = step(z) = step(w^Tx) $$\n"
   ]
  },
  {
   "cell_type": "markdown",
   "metadata": {
    "slideshow": {
     "slide_type": "subslide"
    }
   },
   "source": [
    "* Illustration: <img src=\"./assets/tut_09_perceptron.jpg\" style=\"height:200px\">\n",
    "* The most common step function used is the *Heaviside step function* but sometimes the *sign function* is used (as is the illustration)."
   ]
  },
  {
   "cell_type": "markdown",
   "metadata": {
    "slideshow": {
     "slide_type": "subslide"
    }
   },
   "source": [
    "* **Perceptron Training** draws inspiration from biological neurons: the connection weight between two neurons is increased whenever they have **the same output**. Perceptrons are trained by considering the error made.\n",
    "    * At each iteration, the Perceptron is fed with one training instance and makes a prediction for it.\n",
    "    * For every output that produced a wrong prediction, it reinforces the connection weights from the inputs that would have contributed to the correct prediction.\n",
    "    * Criterion: $ E^{perc}(w) = - \\sum_{i \\in D_{miss}}w^T(x^iy^i) $\n",
    "* **Perceptron Learning Rule (weight update)**: $$ w_{t+1} = w_t +\\eta(y_i -sign(w_t^Tx_i))x_i $$\n",
    "    * $\\eta$ is the learing rate\n",
    "* The decision boundary learned is linear, the Perceptron is incapable of learning complex patterns."
   ]
  },
  {
   "cell_type": "markdown",
   "metadata": {
    "slideshow": {
     "slide_type": "subslide"
    }
   },
   "source": [
    "* **Perceptron Convergence Theorem**: If the training instances are **linearly seperable**, the algorithm would converge to a solution.\n",
    "    * **There can be multiple solutions (multiple hyperplanes)**\n",
    "* Perceptrons do not output a class probability, they just make predicitons based on a **hard threshold**."
   ]
  },
  {
   "cell_type": "code",
   "execution_count": 2,
   "metadata": {
    "slideshow": {
     "slide_type": "subslide"
    }
   },
   "outputs": [
    {
     "data": {
      "text/html": [
       "<div>\n",
       "<style scoped>\n",
       "    .dataframe tbody tr th:only-of-type {\n",
       "        vertical-align: middle;\n",
       "    }\n",
       "\n",
       "    .dataframe tbody tr th {\n",
       "        vertical-align: top;\n",
       "    }\n",
       "\n",
       "    .dataframe thead th {\n",
       "        text-align: right;\n",
       "    }\n",
       "</style>\n",
       "<table border=\"1\" class=\"dataframe\">\n",
       "  <thead>\n",
       "    <tr style=\"text-align: right;\">\n",
       "      <th></th>\n",
       "      <th>id</th>\n",
       "      <th>diagnosis</th>\n",
       "      <th>radius_mean</th>\n",
       "      <th>texture_mean</th>\n",
       "      <th>perimeter_mean</th>\n",
       "      <th>area_mean</th>\n",
       "      <th>smoothness_mean</th>\n",
       "      <th>compactness_mean</th>\n",
       "      <th>concavity_mean</th>\n",
       "      <th>concave points_mean</th>\n",
       "      <th>...</th>\n",
       "      <th>texture_worst</th>\n",
       "      <th>perimeter_worst</th>\n",
       "      <th>area_worst</th>\n",
       "      <th>smoothness_worst</th>\n",
       "      <th>compactness_worst</th>\n",
       "      <th>concavity_worst</th>\n",
       "      <th>concave points_worst</th>\n",
       "      <th>symmetry_worst</th>\n",
       "      <th>fractal_dimension_worst</th>\n",
       "      <th>Unnamed: 32</th>\n",
       "    </tr>\n",
       "  </thead>\n",
       "  <tbody>\n",
       "    <tr>\n",
       "      <td>531</td>\n",
       "      <td>91903901</td>\n",
       "      <td>B</td>\n",
       "      <td>11.670</td>\n",
       "      <td>20.02</td>\n",
       "      <td>75.21</td>\n",
       "      <td>416.2</td>\n",
       "      <td>0.10160</td>\n",
       "      <td>0.09453</td>\n",
       "      <td>0.04200</td>\n",
       "      <td>0.02157</td>\n",
       "      <td>...</td>\n",
       "      <td>28.81</td>\n",
       "      <td>87.00</td>\n",
       "      <td>550.6</td>\n",
       "      <td>0.15500</td>\n",
       "      <td>0.29640</td>\n",
       "      <td>0.27580</td>\n",
       "      <td>0.08120</td>\n",
       "      <td>0.3206</td>\n",
       "      <td>0.08950</td>\n",
       "      <td>NaN</td>\n",
       "    </tr>\n",
       "    <tr>\n",
       "      <td>356</td>\n",
       "      <td>9010259</td>\n",
       "      <td>B</td>\n",
       "      <td>13.050</td>\n",
       "      <td>18.59</td>\n",
       "      <td>85.09</td>\n",
       "      <td>512.0</td>\n",
       "      <td>0.10820</td>\n",
       "      <td>0.13040</td>\n",
       "      <td>0.09603</td>\n",
       "      <td>0.05603</td>\n",
       "      <td>...</td>\n",
       "      <td>24.85</td>\n",
       "      <td>94.22</td>\n",
       "      <td>591.2</td>\n",
       "      <td>0.13430</td>\n",
       "      <td>0.26580</td>\n",
       "      <td>0.25730</td>\n",
       "      <td>0.12580</td>\n",
       "      <td>0.3113</td>\n",
       "      <td>0.08317</td>\n",
       "      <td>NaN</td>\n",
       "    </tr>\n",
       "    <tr>\n",
       "      <td>43</td>\n",
       "      <td>856106</td>\n",
       "      <td>M</td>\n",
       "      <td>13.280</td>\n",
       "      <td>20.28</td>\n",
       "      <td>87.32</td>\n",
       "      <td>545.2</td>\n",
       "      <td>0.10410</td>\n",
       "      <td>0.14360</td>\n",
       "      <td>0.09847</td>\n",
       "      <td>0.06158</td>\n",
       "      <td>...</td>\n",
       "      <td>28.00</td>\n",
       "      <td>113.10</td>\n",
       "      <td>907.2</td>\n",
       "      <td>0.15300</td>\n",
       "      <td>0.37240</td>\n",
       "      <td>0.36640</td>\n",
       "      <td>0.14920</td>\n",
       "      <td>0.3739</td>\n",
       "      <td>0.10270</td>\n",
       "      <td>NaN</td>\n",
       "    </tr>\n",
       "    <tr>\n",
       "      <td>69</td>\n",
       "      <td>859487</td>\n",
       "      <td>B</td>\n",
       "      <td>12.780</td>\n",
       "      <td>16.49</td>\n",
       "      <td>81.37</td>\n",
       "      <td>502.5</td>\n",
       "      <td>0.09831</td>\n",
       "      <td>0.05234</td>\n",
       "      <td>0.03653</td>\n",
       "      <td>0.02864</td>\n",
       "      <td>...</td>\n",
       "      <td>19.76</td>\n",
       "      <td>85.67</td>\n",
       "      <td>554.9</td>\n",
       "      <td>0.12960</td>\n",
       "      <td>0.07061</td>\n",
       "      <td>0.10390</td>\n",
       "      <td>0.05882</td>\n",
       "      <td>0.2383</td>\n",
       "      <td>0.06410</td>\n",
       "      <td>NaN</td>\n",
       "    </tr>\n",
       "    <tr>\n",
       "      <td>141</td>\n",
       "      <td>869104</td>\n",
       "      <td>M</td>\n",
       "      <td>16.110</td>\n",
       "      <td>18.05</td>\n",
       "      <td>105.10</td>\n",
       "      <td>813.0</td>\n",
       "      <td>0.09721</td>\n",
       "      <td>0.11370</td>\n",
       "      <td>0.09447</td>\n",
       "      <td>0.05943</td>\n",
       "      <td>...</td>\n",
       "      <td>25.27</td>\n",
       "      <td>129.00</td>\n",
       "      <td>1233.0</td>\n",
       "      <td>0.13140</td>\n",
       "      <td>0.22360</td>\n",
       "      <td>0.28020</td>\n",
       "      <td>0.12160</td>\n",
       "      <td>0.2792</td>\n",
       "      <td>0.08158</td>\n",
       "      <td>NaN</td>\n",
       "    </tr>\n",
       "    <tr>\n",
       "      <td>499</td>\n",
       "      <td>91485</td>\n",
       "      <td>M</td>\n",
       "      <td>20.590</td>\n",
       "      <td>21.24</td>\n",
       "      <td>137.80</td>\n",
       "      <td>1320.0</td>\n",
       "      <td>0.10850</td>\n",
       "      <td>0.16440</td>\n",
       "      <td>0.21880</td>\n",
       "      <td>0.11210</td>\n",
       "      <td>...</td>\n",
       "      <td>30.76</td>\n",
       "      <td>163.20</td>\n",
       "      <td>1760.0</td>\n",
       "      <td>0.14640</td>\n",
       "      <td>0.35970</td>\n",
       "      <td>0.51790</td>\n",
       "      <td>0.21130</td>\n",
       "      <td>0.2480</td>\n",
       "      <td>0.08999</td>\n",
       "      <td>NaN</td>\n",
       "    </tr>\n",
       "    <tr>\n",
       "      <td>504</td>\n",
       "      <td>915186</td>\n",
       "      <td>B</td>\n",
       "      <td>9.268</td>\n",
       "      <td>12.87</td>\n",
       "      <td>61.49</td>\n",
       "      <td>248.7</td>\n",
       "      <td>0.16340</td>\n",
       "      <td>0.22390</td>\n",
       "      <td>0.09730</td>\n",
       "      <td>0.05252</td>\n",
       "      <td>...</td>\n",
       "      <td>16.38</td>\n",
       "      <td>69.05</td>\n",
       "      <td>300.2</td>\n",
       "      <td>0.19020</td>\n",
       "      <td>0.34410</td>\n",
       "      <td>0.20990</td>\n",
       "      <td>0.10250</td>\n",
       "      <td>0.3038</td>\n",
       "      <td>0.12520</td>\n",
       "      <td>NaN</td>\n",
       "    </tr>\n",
       "    <tr>\n",
       "      <td>358</td>\n",
       "      <td>9010333</td>\n",
       "      <td>B</td>\n",
       "      <td>8.878</td>\n",
       "      <td>15.49</td>\n",
       "      <td>56.74</td>\n",
       "      <td>241.0</td>\n",
       "      <td>0.08293</td>\n",
       "      <td>0.07698</td>\n",
       "      <td>0.04721</td>\n",
       "      <td>0.02381</td>\n",
       "      <td>...</td>\n",
       "      <td>17.70</td>\n",
       "      <td>65.27</td>\n",
       "      <td>302.0</td>\n",
       "      <td>0.10150</td>\n",
       "      <td>0.12480</td>\n",
       "      <td>0.09441</td>\n",
       "      <td>0.04762</td>\n",
       "      <td>0.2434</td>\n",
       "      <td>0.07431</td>\n",
       "      <td>NaN</td>\n",
       "    </tr>\n",
       "    <tr>\n",
       "      <td>270</td>\n",
       "      <td>8910721</td>\n",
       "      <td>B</td>\n",
       "      <td>14.290</td>\n",
       "      <td>16.82</td>\n",
       "      <td>90.30</td>\n",
       "      <td>632.6</td>\n",
       "      <td>0.06429</td>\n",
       "      <td>0.02675</td>\n",
       "      <td>0.00725</td>\n",
       "      <td>0.00625</td>\n",
       "      <td>...</td>\n",
       "      <td>20.65</td>\n",
       "      <td>94.44</td>\n",
       "      <td>684.6</td>\n",
       "      <td>0.08567</td>\n",
       "      <td>0.05036</td>\n",
       "      <td>0.03866</td>\n",
       "      <td>0.03333</td>\n",
       "      <td>0.2458</td>\n",
       "      <td>0.06120</td>\n",
       "      <td>NaN</td>\n",
       "    </tr>\n",
       "    <tr>\n",
       "      <td>568</td>\n",
       "      <td>92751</td>\n",
       "      <td>B</td>\n",
       "      <td>7.760</td>\n",
       "      <td>24.54</td>\n",
       "      <td>47.92</td>\n",
       "      <td>181.0</td>\n",
       "      <td>0.05263</td>\n",
       "      <td>0.04362</td>\n",
       "      <td>0.00000</td>\n",
       "      <td>0.00000</td>\n",
       "      <td>...</td>\n",
       "      <td>30.37</td>\n",
       "      <td>59.16</td>\n",
       "      <td>268.6</td>\n",
       "      <td>0.08996</td>\n",
       "      <td>0.06444</td>\n",
       "      <td>0.00000</td>\n",
       "      <td>0.00000</td>\n",
       "      <td>0.2871</td>\n",
       "      <td>0.07039</td>\n",
       "      <td>NaN</td>\n",
       "    </tr>\n",
       "  </tbody>\n",
       "</table>\n",
       "<p>10 rows × 33 columns</p>\n",
       "</div>"
      ],
      "text/plain": [
       "           id diagnosis  radius_mean  texture_mean  perimeter_mean  area_mean  \\\n",
       "531  91903901         B       11.670         20.02           75.21      416.2   \n",
       "356   9010259         B       13.050         18.59           85.09      512.0   \n",
       "43     856106         M       13.280         20.28           87.32      545.2   \n",
       "69     859487         B       12.780         16.49           81.37      502.5   \n",
       "141    869104         M       16.110         18.05          105.10      813.0   \n",
       "499     91485         M       20.590         21.24          137.80     1320.0   \n",
       "504    915186         B        9.268         12.87           61.49      248.7   \n",
       "358   9010333         B        8.878         15.49           56.74      241.0   \n",
       "270   8910721         B       14.290         16.82           90.30      632.6   \n",
       "568     92751         B        7.760         24.54           47.92      181.0   \n",
       "\n",
       "     smoothness_mean  compactness_mean  concavity_mean  concave points_mean  \\\n",
       "531          0.10160           0.09453         0.04200              0.02157   \n",
       "356          0.10820           0.13040         0.09603              0.05603   \n",
       "43           0.10410           0.14360         0.09847              0.06158   \n",
       "69           0.09831           0.05234         0.03653              0.02864   \n",
       "141          0.09721           0.11370         0.09447              0.05943   \n",
       "499          0.10850           0.16440         0.21880              0.11210   \n",
       "504          0.16340           0.22390         0.09730              0.05252   \n",
       "358          0.08293           0.07698         0.04721              0.02381   \n",
       "270          0.06429           0.02675         0.00725              0.00625   \n",
       "568          0.05263           0.04362         0.00000              0.00000   \n",
       "\n",
       "     ...  texture_worst  perimeter_worst  area_worst  smoothness_worst  \\\n",
       "531  ...          28.81            87.00       550.6           0.15500   \n",
       "356  ...          24.85            94.22       591.2           0.13430   \n",
       "43   ...          28.00           113.10       907.2           0.15300   \n",
       "69   ...          19.76            85.67       554.9           0.12960   \n",
       "141  ...          25.27           129.00      1233.0           0.13140   \n",
       "499  ...          30.76           163.20      1760.0           0.14640   \n",
       "504  ...          16.38            69.05       300.2           0.19020   \n",
       "358  ...          17.70            65.27       302.0           0.10150   \n",
       "270  ...          20.65            94.44       684.6           0.08567   \n",
       "568  ...          30.37            59.16       268.6           0.08996   \n",
       "\n",
       "     compactness_worst  concavity_worst  concave points_worst  symmetry_worst  \\\n",
       "531            0.29640          0.27580               0.08120          0.3206   \n",
       "356            0.26580          0.25730               0.12580          0.3113   \n",
       "43             0.37240          0.36640               0.14920          0.3739   \n",
       "69             0.07061          0.10390               0.05882          0.2383   \n",
       "141            0.22360          0.28020               0.12160          0.2792   \n",
       "499            0.35970          0.51790               0.21130          0.2480   \n",
       "504            0.34410          0.20990               0.10250          0.3038   \n",
       "358            0.12480          0.09441               0.04762          0.2434   \n",
       "270            0.05036          0.03866               0.03333          0.2458   \n",
       "568            0.06444          0.00000               0.00000          0.2871   \n",
       "\n",
       "     fractal_dimension_worst  Unnamed: 32  \n",
       "531                  0.08950          NaN  \n",
       "356                  0.08317          NaN  \n",
       "43                   0.10270          NaN  \n",
       "69                   0.06410          NaN  \n",
       "141                  0.08158          NaN  \n",
       "499                  0.08999          NaN  \n",
       "504                  0.12520          NaN  \n",
       "358                  0.07431          NaN  \n",
       "270                  0.06120          NaN  \n",
       "568                  0.07039          NaN  \n",
       "\n",
       "[10 rows x 33 columns]"
      ]
     },
     "execution_count": 2,
     "metadata": {},
     "output_type": "execute_result"
    }
   ],
   "source": [
    "# let's load the cancer dataset, shuffle it and  speratre into train and test set\n",
    "dataset = pd.read_csv('./datasets/cancer_dataset.csv')\n",
    "# print the number of rows in the data set\n",
    "number_of_rows = len(dataset)\n",
    "num_train = int(0.8 * number_of_rows)\n",
    "# reminder, the data looks like this\n",
    "dataset.sample(10)"
   ]
  },
  {
   "cell_type": "code",
   "execution_count": 3,
   "metadata": {
    "slideshow": {
     "slide_type": "subslide"
    }
   },
   "outputs": [
    {
     "name": "stdout",
     "output_type": "stream",
     "text": [
      "total training samples: 455, total test samples: 114\n"
     ]
    }
   ],
   "source": [
    "# we will take the first 2 features as our data (X) and the diagnosis as labels (y)\n",
    "x = dataset[['radius_mean', 'texture_mean']].values\n",
    "y = dataset['diagnosis'].values == 'M'  # 1 for Malignat, 0 for Benign\n",
    "# shuffle\n",
    "rand_gen = np.random.RandomState(0)\n",
    "shuffled_indices = rand_gen.permutation(np.arange(len(x)))\n",
    "\n",
    "x_train = x[shuffled_indices[:num_train]]\n",
    "y_train = y[shuffled_indices[:num_train]]\n",
    "x_test = x[shuffled_indices[num_train:]]\n",
    "y_test = y[shuffled_indices[num_train:]]\n",
    "\n",
    "print(\"total training samples: {}, total test samples: {}\".format(num_train, number_of_rows - num_train))"
   ]
  },
  {
   "cell_type": "code",
   "execution_count": 4,
   "metadata": {
    "slideshow": {
     "slide_type": "skip"
    }
   },
   "outputs": [],
   "source": [
    "def plot_dataset(x, y):\n",
    "    fig = plt.figure(figsize=(8, 5))\n",
    "    ax = fig.add_subplot(1,1,1)\n",
    "    ax.scatter(x[y,0], x[y, 1], color='r', label=\"M\")\n",
    "    ax.scatter(x[~y,0], x[~y, 1], color='b', label=\"B\")\n",
    "    ax.legend()\n",
    "    ax.grid()\n",
    "    ax.set_xlabel(\"radius_mean\")\n",
    "    ax.set_ylabel(\"texture_mean\")\n",
    "    ax.set_title(\"texture_mean vs. radius_mean\")"
   ]
  },
  {
   "cell_type": "code",
   "execution_count": 5,
   "metadata": {
    "slideshow": {
     "slide_type": "subslide"
    }
   },
   "outputs": [
    {
     "data": {
      "image/png": "[encoded data removed]",
      "text/plain": [
       "<Figure size 576x360 with 1 Axes>"
      ]
     },
     "metadata": {
      "needs_background": "light"
     },
     "output_type": "display_data"
    }
   ],
   "source": [
    "# let's see it\n",
    "plot_dataset(x_train, y_train)"
   ]
  },
  {
   "cell_type": "code",
   "execution_count": 12,
   "metadata": {
    "slideshow": {
     "slide_type": "subslide"
    }
   },
   "outputs": [
    {
     "name": "stdout",
     "output_type": "stream",
     "text": [
      "perceptron accuracy: 71.930 %\n"
     ]
    }
   ],
   "source": [
    "# perceptron using Scikit-Learn\n",
    "from sklearn.linear_model import Perceptron\n",
    "per_clf = Perceptron(max_iter=1000)\n",
    "per_clf.fit(x_train, y_train)\n",
    "y_pred = per_clf.predict(x_test)\n",
    "accuracy = np.sum(y_pred == y_test) / len(y_test)\n",
    "print(\"perceptron accuracy: {:.3f} %\".format(accuracy * 100))\n",
    "w = (per_clf.coef_).reshape(-1,)\n",
    "b = (per_clf.intercept_).reshape(-1,)\n",
    "boundary = (-b -w[0] * x_train[:, 0]) / w[1] "
   ]
  },
  {
   "cell_type": "code",
   "execution_count": 13,
   "metadata": {
    "slideshow": {
     "slide_type": "skip"
    }
   },
   "outputs": [],
   "source": [
    "def plot_perceptron_result():\n",
    "    fig = plt.figure(figsize=(10, 8))\n",
    "    ax = fig.add_subplot(1,1,1)\n",
    "    ax.scatter(x_train[y_train,0], x_train[y_train, 1], color='r', label=\"M, train\", alpha=0.5)\n",
    "    ax.scatter(x_train[~y_train,0], x_train[~y_train, 1], color='b', label=\"B, train\", alpha=0.5)\n",
    "    ax.scatter(x_test[y_test,0], x_test[y_test, 1], color='r', label=\"M, test\", alpha=1)\n",
    "    ax.scatter(x_test[~y_test,0], x_test[~y_test, 1], color='b', label=\"B, test\", alpha=1)\n",
    "    ax.plot(x_train[:,0], boundary, label=\"decision boundary\", color='g')\n",
    "    ax.legend()\n",
    "    ax.grid()\n",
    "    ax.set_ylim([5, 40])\n",
    "    ax.set_xlabel(\"radius_mean\")\n",
    "    ax.set_ylabel(\"texture_mean\")\n",
    "    ax.set_title(\"texture_mean vs. radius_mean\")"
   ]
  },
  {
   "cell_type": "code",
   "execution_count": 14,
   "metadata": {
    "scrolled": false,
    "slideshow": {
     "slide_type": "subslide"
    }
   },
   "outputs": [
    {
     "data": {
      "image/png": "[encoded data removed]",
      "text/plain": [
       "<Figure size 720x576 with 1 Axes>"
      ]
     },
     "metadata": {
      "needs_background": "light"
     },
     "output_type": "display_data"
    }
   ],
   "source": [
    "# plot\n",
    "plot_perceptron_result()"
   ]
  },
  {
   "cell_type": "markdown",
   "metadata": {
    "slideshow": {
     "slide_type": "slide"
    }
   },
   "source": [
    "### <img src=\"https://img.icons8.com/dotty/80/000000/square-number.png\" style=\"height:50px;display:inline\"> Least Mean Square - LMS (Adaptive Linear Neuron - ADALINE)\n",
    "---\n",
    "* Adaline is a single layer neural network with multiple nodes where each node accepts multiple inputs and generates one output.\n",
    "* The difference between Adaline and the standard Perceptron is that in the learning phase, the weights are adjusted according to the weighted sum of the inputs (the net). In the standard Perceptron, the net is passed to the activation function (step() or sign() and the function's output is used for adjusting the weights.\n",
    "* Criterion: $ E(w) = \\frac{1}{2} \\sum_{i \\in D} (y_i -w^Tx_i)^2 $\n",
    "* **ADALINE Training**:\n",
    "    * SGD or Pseudo-inverse\n",
    "    * **ADALINE Learning Rule (weight update):** $$ w_{t+1} = w_t + \\eta(y_i - w_t^Tx_i)x_i $$"
   ]
  },
  {
   "cell_type": "markdown",
   "metadata": {
    "slideshow": {
     "slide_type": "subslide"
    }
   },
   "source": [
    "* Training Process: \n",
    "\n",
    "<img src=\"./assets/tut_08_adaline.gif\" style=\"height:300px\">"
   ]
  },
  {
   "cell_type": "markdown",
   "metadata": {
    "slideshow": {
     "slide_type": "slide"
    }
   },
   "source": [
    "#### <img src=\"https://img.icons8.com/ios/50/000000/battle.png\" style=\"height:30px;display:inline\"> LMS vs. Pereptron\n",
    "---\n",
    "<img src=\"./assets/tut_09_lms_perc.jpg\" style=\"height:200px\">\n"
   ]
  },
  {
   "cell_type": "markdown",
   "metadata": {
    "slideshow": {
     "slide_type": "subslide"
    }
   },
   "source": [
    "<img src=\"./assets/tut_08_perc_vs_ada.png\" style=\"height:300px\">\n",
    "\n",
    "* Image and animation by <a href=\"https://sebastianraschka.com/Articles/2015_singlelayer_neurons.html\">Sebastian Raschka</a>\n",
    "* Python implementation of ADALAINE using SGD can be found <a href=\"https://sebastianraschka.com/Articles/2015_singlelayer_neurons.html\">here</a>."
   ]
  },
  {
   "cell_type": "markdown",
   "metadata": {
    "slideshow": {
     "slide_type": "slide"
    }
   },
   "source": [
    "## <img src=\"https://img.icons8.com/dusk/64/000000/rewind.png\" style=\"height:50px;display:inline\"> Recap: Maximum Likelihood Estimation\n",
    "---\n",
    "* Maximum Likelihood Estimation (MLE) is the most common way to estimate parameters of a statistical model by calculating: $$\\hat{\\theta} = \\underset{\\theta}{\\mathrm{argmax}} \\log p(y|x, \\theta) $$\n",
    "* The Negative Log Likelhood (NLL) under **i.i.d** assumption: $$ NLL(\\theta) = -\\log p(D|\\theta) = -\\sum_{i=1}^n \\log p(y_i|x_i, \\theta) $$"
   ]
  },
  {
   "cell_type": "markdown",
   "metadata": {
    "slideshow": {
     "slide_type": "subslide"
    }
   },
   "source": [
    "### <img src=\"https://img.icons8.com/dusk/64/000000/cheap-2.png\" style=\"height:50px;display:inline\"> MLE with Bernoulli Assumption\n",
    "---\n",
    "* The *Sigmoid* function (also the Logistic Function): $$ \\sigma(x) = \\frac{1}{1+e^{-x}} = \\frac{e^x}{1+e^x} $$\n",
    "    * The output is in $[0,1]$, which is exactly what we need to model a probability distribution.\n",
    "* We assume that: $$ P(y|x,\\theta) = Bern(y|\\sigma(\\theta^Tx)) $$\n",
    "    * Bernoulli Distribution (coin flip): $$ P(y) = p^y(1-p)^{1-y} $$\n",
    "    * $p = \\sigma(\\theta^Tx) \\in [0,1]$\n",
    "* We will use the following notations: $$P(y_i|x_i, w) = \\begin{cases}\n",
    "    \\pi_{i1} = \\sigma(w^Tx) =  \\frac{1}{1+e^{-x}}     & \\quad \\text{if } y_i=1 \\\\\n",
    "    \\pi_{i0} = 1 -  \\sigma(w^Tx) = 1 -  \\frac{1}{1+e^{-x}}    & \\quad \\text{if } y_i = 0  \n",
    "  \\end{cases} $$"
   ]
  },
  {
   "cell_type": "code",
   "execution_count": 40,
   "metadata": {
    "slideshow": {
     "slide_type": "subslide"
    }
   },
   "outputs": [],
   "source": [
    "# let's see the sigmoid function\n",
    "def sigmoid(x):\n",
    "    return 1 / (1 + np.exp(-x))\n",
    "\n",
    "x = np.linspace(-5, 5, 1000)\n",
    "sig_x = sigmoid(x)"
   ]
  },
  {
   "cell_type": "code",
   "execution_count": 41,
   "metadata": {
    "slideshow": {
     "slide_type": "subslide"
    }
   },
   "outputs": [
    {
     "data": {
      "text/plain": [
       "Text(0, 0.5, 'sigmoid(x)')"
      ]
     },
     "execution_count": 41,
     "metadata": {},
     "output_type": "execute_result"
    },
    {
     "data": {
      "image/png": "[encoded data removed]",
      "text/plain": [
       "<Figure size 576x360 with 1 Axes>"
      ]
     },
     "metadata": {
      "needs_background": "light"
     },
     "output_type": "display_data"
    }
   ],
   "source": [
    "# plot\n",
    "fig = plt.figure(figsize=(8,5))\n",
    "ax = fig.add_subplot(111)\n",
    "ax.plot(x, sig_x)\n",
    "ax.grid()\n",
    "ax.set_title(\"The Sigmoid Function\")\n",
    "ax.set_xlabel(\"x\")\n",
    "ax.set_ylabel(\"sigmoid(x)\")"
   ]
  },
  {
   "cell_type": "markdown",
   "metadata": {
    "slideshow": {
     "slide_type": "slide"
    }
   },
   "source": [
    "### <img src=\"https://img.icons8.com/cotton/64/000000/combo-chart.png\" style=\"height:50px;display:inline\"> Logistic Regression\n",
    "---\n",
    "* Some regression algorithms can be used for **classification** as well.\n",
    "* *Logistic Regression* is commonly used to **estimate the probability** that an instance belongs to a particular class.\n",
    "    * Typically, if the estimated proabibility is greater than 50%, then the model predicts that the instance belongs to that class (called the positive class, labeled \"1\"), or else it predicts that it does not - a binary classifier.\n",
    "* **Estimating Probabilities** - Similarly to *Linear Regression*, a Logistic Regression model computes a weighted sum of the input features (plus a bias term), but unlike Linear Regression, it outputs the **logistic** of the weighted sum - $\\sigma(w^Tx)$, which is a number between 0 and 1."
   ]
  },
  {
   "cell_type": "markdown",
   "metadata": {
    "slideshow": {
     "slide_type": "subslide"
    }
   },
   "source": [
    "* **Training and Cost Function**:\n",
    "    * The objective of training is to set the parameter vector $\\theta$ (or $w$) so that the model estimates high probabilities for positive instances ($y=1$) and low probabilities for negative instances ($y=0$)\n",
    "    * Expanding the expression: $$ P(y|x,\\theta) = Bern(y|\\sigma(\\theta^Tx)) \\rightarrow NLL(\\theta) = -\\frac{1}{m}\\sum_{i=1}^n \\log \\sigma(\\theta^Tx)^{y_i}(1-\\sigma(\\theta^Tx))^{1-y_i} =- \\frac{1}{m} \\sum_{i=1}^n\\log\\pi_{i1}^{y_i}\\pi_{i0}^{1-y_i} $$\n",
    "    $$ =  -\\frac{1}{m} \\sum_{i=1}^n \\left[y_i\\log\\pi_{i1} + (1-y_i)\\log\\pi_{i0} \\right]$$"
   ]
  },
  {
   "cell_type": "markdown",
   "metadata": {
    "slideshow": {
     "slide_type": "subslide"
    }
   },
   "source": [
    "* This yields **the Logistic Regression cost function (log loss)**: $$ J(\\theta) = -\\frac{1}{m} \\sum_{i=1}^m \\big[ y_i\\log \\pi_{i1} + (1-y_i)\\log \\pi_{i0} \\big] = -\\frac{1}{m} \\sum_{i=1}^m \\big[ y_i\\log \\pi_{i1} + (1-y_i)\\log (1 - \\pi_{i1}) \\big] $$\n",
    "    * Intuition: $-\\log(t)$ grows very large when $t$ approaches 0, so the cost will be large if the model estimates a probability close to 0 for a **positive instance**, and it will also be very large if the estimated probability is close to 1 for a **negative instance**. On the other hand, $-log(t)$ is close to 0 when $t$ is close to 1, so the cost will be close to 0 if the estimated probability is close to 0 for a **negative instance** or close to 1 for a **positive instance**.\n",
    "    * This expression is also called the **binary cross-entropy (BCE)** loss.\n",
    "    * The cost function is **convex**."
   ]
  },
  {
   "cell_type": "markdown",
   "metadata": {
    "slideshow": {
     "slide_type": "subslide"
    }
   },
   "source": [
    "* **Logistic cost function derivatives**: $$ \\frac{\\partial}{\\partial \\theta_j}J(\\theta) = \\frac{1}{m}\\sum_{i=1}^m \\big( \\sigma(\\theta^Tx^{i}) - y_i \\big) x_j^{i} $$\n",
    "    * No closed-form solution.\n",
    "    * Thanks to the convexity of the cost function, we can use **Gradient Descent** (or SGD, Mini-Batch GD)."
   ]
  },
  {
   "cell_type": "code",
   "execution_count": 46,
   "metadata": {
    "slideshow": {
     "slide_type": "skip"
    }
   },
   "outputs": [],
   "source": [
    "def plot_lr_boundary(x_train, x_test, y_train, y_test, boundary):\n",
    "    fig = plt.figure(figsize=(8, 5))\n",
    "    ax = fig.add_subplot(1,1,1)\n",
    "    ax.scatter(x_train[y_train,0], x_train[y_train, 1], color='r', label=\"M, train\", alpha=0.5)\n",
    "    ax.scatter(x_train[~y_train,0], x_train[~y_train, 1], color='b', label=\"B, train\", alpha=0.5)\n",
    "    ax.scatter(x_test[y_test,0], x_test[y_test, 1], color='r', label=\"M, test\", alpha=1)\n",
    "    ax.scatter(x_test[~y_test,0], x_test[~y_test, 1], color='b', label=\"B, test\", alpha=1)\n",
    "    ax.plot(x_train[:,0], boundary, label=\"decision boundary\", color='g')\n",
    "    ax.legend()\n",
    "    ax.grid()\n",
    "    ax.set_ylim([5, 40])\n",
    "    ax.set_xlabel(\"radius_mean\")\n",
    "    ax.set_ylabel(\"texture_mean\")\n",
    "    ax.set_title(\"texture_mean vs. radius_mean\")"
   ]
  },
  {
   "cell_type": "code",
   "execution_count": 47,
   "metadata": {
    "slideshow": {
     "slide_type": "subslide"
    }
   },
   "outputs": [
    {
     "name": "stdout",
     "output_type": "stream",
     "text": [
      "Logistic Regression accuracy: 90.351 %\n"
     ]
    }
   ],
   "source": [
    "# logistic regression with scikit-learn\n",
    "from sklearn.linear_model import LogisticRegression\n",
    "log_reg = LogisticRegression(solver='lbfgs')\n",
    "log_reg.fit(x_train, y_train)\n",
    "y_pred = log_reg.predict(x_test)\n",
    "accuracy = np.sum(y_pred == y_test) / len(y_test)\n",
    "print(\"Logistic Regression accuracy: {:.3f} %\".format(accuracy * 100))\n",
    "w = (log_reg.coef_).reshape(-1,)\n",
    "b = (log_reg.intercept_).reshape(-1,)\n",
    "boundary = (-b -w[0] * x_train[:, 0]) / w[1] "
   ]
  },
  {
   "cell_type": "code",
   "execution_count": 48,
   "metadata": {
    "scrolled": true,
    "slideshow": {
     "slide_type": "subslide"
    }
   },
   "outputs": [
    {
     "data": {
      "image/png": "[encoded data removed]",
      "text/plain": [
       "<Figure size 576x360 with 1 Axes>"
      ]
     },
     "metadata": {
      "needs_background": "light"
     },
     "output_type": "display_data"
    }
   ],
   "source": [
    "# plot\n",
    "plot_lr_boundary(x_train, x_test, y_train, y_test, boundary)"
   ]
  },
  {
   "cell_type": "markdown",
   "metadata": {
    "slideshow": {
     "slide_type": "slide"
    }
   },
   "source": [
    "### <img src=\"https://img.icons8.com/cotton/64/000000/network.png\" style=\"height:50px;display:inline\"> Multi-Class (Multinomial) Logistic Regression - Softmax Regression\n",
    "---\n",
    "* The Logistic Regression model can be generalized to support multiple classes.\n",
    "* The idea: when given an instance $x$, the Softmax Regression model first computes a score $s_k(x)$ for each class $k$, then estimates a probability of each class by applying the *softmax function* (normalized exponential) to the scores.\n",
    "* The **Softmax score for class $k$**: $$ s_k(x) = \\big( \\theta^{(k)} \\big)^T \\cdot x $$ \n",
    "    * Each class has its own dedicated parameter vector $\\theta^{(k)}$, which is usually stored in a row of the parameter matrix $\\Theta$."
   ]
  },
  {
   "cell_type": "markdown",
   "metadata": {
    "slideshow": {
     "slide_type": "subslide"
    }
   },
   "source": [
    "* **The Softmax Function**: $$\\hat{p}_k = p(y=k|x,\\theta) = \\sigma(s(x))_k = \\frac{e^{s_k(x)}}{\\sum_{j=1}^K e^{s_j(x)}} $$\n",
    "    * $K$ is the number of classes.\n",
    "    * $s(x)$ is a *vector* containing the scores of each class for the instance $x$\n",
    "    * $\\sigma(s(x))_k$ is the estimated probability that the instance $x$ belongs to class $k$ given the scores of each class for that instance.\n",
    "* **The Softmax Regression classifier prediction**: $$\\hat{y} = \\underset{k}{\\mathrm{argmax}} \\sigma(s(x))_k = \\underset{k}{\\mathrm{argmax}} s_k(x) = \\underset{k}{\\mathrm{argmax}} \\big( (\\theta^{(k)})^Tx \\big) $$"
   ]
  },
  {
   "cell_type": "markdown",
   "metadata": {
    "slideshow": {
     "slide_type": "subslide"
    }
   },
   "source": [
    "* **Cross-Entropy cost function**: $$ J(\\Theta) = -\\frac{1}{m} \\sum_{i=1}^m \\sum_{k=1}^K y_k^{(i)} \\log(\\hat{p}_k^{(i)}) $$\n",
    "    * $y_k^{(i)}$ is equal to 1 if the target class for the $i^{th}$ instance is $k$, otherwise, it is 0.\n",
    "    * When $K=2$ it is the BCE from the previous section.\n",
    "* **Cross-Entropy gradient vector for class $k$**: $$ \\nabla_{\\theta^{(k)}}J(\\Theta) = \\frac{1}{m}\\sum_{i=1}^m (\\hat{p}_k^{(i)} - y_k^{(i)})x^{(i)} $$\n",
    "    * Use Gradient Descent or its variants to solve\n",
    "* In Scikit-Learn: `softmax_reg = LogisticRegression(multi_class=\"multinomial\", solver=\"lbfgs\", C=10)`\n",
    "    * $C$ is the number of classes to use."
   ]
  },
  {
   "cell_type": "markdown",
   "metadata": {
    "slideshow": {
     "slide_type": "slide"
    }
   },
   "source": [
    "## <img src=\"https://img.icons8.com/ios/100/000000/automotive-generator-filled.png\" style=\"height:50px;display:inline\"> Generative Models\n",
    "---\n",
    "* A generative model is a model of the conditional probability of the observable X, given a target y:$ P(X|Y=y)$ or the joint distribution $P(X,Y)$.\n",
    "* A generative model can be used to \"generate\" random instances, either of an observation and target.\n",
    "* The typical generative model approaches contain Naive Bayes, Gaussian Mixture Model, and others."
   ]
  },
  {
   "cell_type": "markdown",
   "metadata": {
    "slideshow": {
     "slide_type": "subslide"
    }
   },
   "source": [
    "### <img src=\"https://img.icons8.com/dusk/64/000000/rewind.png\" style=\"height:50px;display:inline\"> Recap: Bayes Rule\n",
    "---\n",
    "<img src=\"./assets/tut_09_bayes.jpg\" style=\"height:200px\">\n",
    "\n",
    "* Note that $P(x) = \\sum_kP(x|y)P(y)$"
   ]
  },
  {
   "cell_type": "markdown",
   "metadata": {
    "slideshow": {
     "slide_type": "slide"
    }
   },
   "source": [
    "### <img src=\"https://img.icons8.com/ios/100/000000/probability-collision.png\" style=\"height:50px;display:inline\"> Maximum A Posteriori (MAP)\n",
    "---\n",
    "* MAP estimation seeks to maximize the **posterior distribution** (unlike MLE, which seeks to maximize the likelihood) by taking into account the **prior probability**: $$ \\hat{\\theta} = \\underset{\\theta}{\\mathrm{argmax}} p(x|y; \\theta)p(y;\\theta) $$\n",
    "    * When the **prior is constant** then MLE = MAP. More precisely, when the prior is **uniform**, then the MAP estimator is the same as MLE. We can say that MLE is a special case of MAP when the prior is uniform!\n",
    "    * If we use a different prior, say, a Gaussian, then our prior is not constant anymore, as depending on the region of the distribution, the probability is high or low, never always the same.\n",
    "* MAP estimation **minimizes the classification error** (the best estimator we can get).\n",
    "* However, estimating the prior is not trivial which leads us to make some strong assumptions (that may be wrong)."
   ]
  },
  {
   "cell_type": "markdown",
   "metadata": {
    "slideshow": {
     "slide_type": "slide"
    }
   },
   "source": [
    "### <img src=\"https://img.icons8.com/ultraviolet/80/000000/normal-distribution-histogram.png\" style=\"height:50px;display:inline\"> Gaussian Assumption - Quadratic Discriminant Analysis - QDA\n",
    "---\n",
    "* We assume the likelihood (class-conditioned probabilities) to be Gaussians and the **prior to be Categorical**, denoting: $P(y=c)=\\pi_c$\n",
    "* The MAP estimator/classifier: $$ P(y=c|X) = \\frac{P(X|y=c)P(y=c)}{P(X)} = \\frac{P(X|y=c)P(y=c)}{\\sum_{c'} P(X|y=c')P(y=c')} $$\n",
    "    * We select class $c$ that maximizes the conditional probability.\n",
    "    * $P(X|y=c, \\theta) = (2\\pi)^{-\\frac{d}{2}} |\\Sigma_c|^{-\\frac{1}{2}} e^{-\\frac{1}{2}(X-\\mu_c)^T\\Sigma_c^{-1}(X-\\mu_c)}$"
   ]
  },
  {
   "cell_type": "markdown",
   "metadata": {
    "slideshow": {
     "slide_type": "subslide"
    }
   },
   "source": [
    "* QDA for the **Binary** case: $$ \\pi_0(2\\pi)^{-\\frac{d}{2}} |\\Sigma_0|^{-\\frac{1}{2}} e^{-\\frac{1}{2}(X-\\mu_0)^T\\Sigma_0^{-1}(X-\\mu_0)} \\lessgtr \\pi_1(2\\pi)^{-\\frac{d}{2}} |\\Sigma_1|^{-\\frac{1}{2}} e^{-\\frac{1}{2}(X-\\mu_1)^T\\Sigma_1^{-1}(X-\\mu_1)}$$ \n",
    "$$e^{-\\frac{1}{2}(X-\\mu_0)^T\\Sigma_0^{-1}(X-\\mu_0)} \\lessgtr \\frac{\\pi_1}{\\pi_0} \\big(\\frac{|\\Sigma_1|}{|\\Sigma_0|} \\big)^{-\\frac{1}{2}} e^{-\\frac{1}{2}(X-\\mu_1)^T\\Sigma_1^{-1}(X-\\mu_1)}$$ $$ (X-\\mu_0)^T\\Sigma_0^{-1}(X-\\mu_0) \\gtrless \\log (\\frac{\\pi_1}{\\pi_0} \\big(\\frac{|\\Sigma_1|}{|\\Sigma_0|} \\big)) + (X-\\mu_1)^T\\Sigma_1^{-1}(X-\\mu_1) $$\n",
    "* The above is **quadratic equation**: decision boundaries are a second order curves."
   ]
  },
  {
   "cell_type": "markdown",
   "metadata": {
    "slideshow": {
     "slide_type": "subslide"
    }
   },
   "source": [
    "<img src=\"./assets/tut_09_qda.jpg\" style=\"height:300px\">"
   ]
  },
  {
   "cell_type": "markdown",
   "metadata": {
    "slideshow": {
     "slide_type": "subslide"
    }
   },
   "source": [
    "* **QDA Training**:\n",
    "    * Training can be performed by MLE parameter estimation:\n",
    "        * $\\hat{\\pi_c} = \\frac{n_c}{n}$\n",
    "        * $\\hat{\\mu_c} = \\frac{1}{n_c}\\sum_{i \\in c} X_i $\n",
    "        * $\\hat{\\Sigma_c} = \\frac{1}{n_c} \\sum_{i \\in c} (X_i -\\hat{\\mu_c})(X_i -\\hat{\\mu_c})^T $\n",
    "* In Scikit-Learn: `from sklearn.discriminant_analysis import QuadraticDiscriminantAnalysis`\n",
    "    * <a href=\"https://scikit-learn.org/stable/modules/lda_qda.html\">Doc</a>"
   ]
  },
  {
   "cell_type": "markdown",
   "metadata": {
    "slideshow": {
     "slide_type": "slide"
    }
   },
   "source": [
    "### <img src=\"https://img.icons8.com/flat_round/64/000000/resize-diagonal.png\" style=\"height:50px;display:inline\"> Gaussian Assumption - Naive Bayes Classifier\n",
    "---\n",
    "* If in the QDA model one assumes that **the covariance matrices are diagonal**, then the inputs are assumed to be conditionally **independent in each class**, and the resulting classifier is equivalent to the Gaussian Naive Bayes classifier .\n",
    "* In Scikit-Learn: `from sklearn.naive_bayes import GaussianNB`\n",
    "    * <a href=\"https://scikit-learn.org/stable/modules/generated/sklearn.naive_bayes.GaussianNB.html#sklearn.naive_bayes.GaussianNB\">Doc</a>"
   ]
  },
  {
   "cell_type": "code",
   "execution_count": 49,
   "metadata": {
    "slideshow": {
     "slide_type": "subslide"
    }
   },
   "outputs": [
    {
     "name": "stdout",
     "output_type": "stream",
     "text": [
      "QDA accuracy: 91.228 %\n"
     ]
    }
   ],
   "source": [
    "# qda\n",
    "from sklearn.discriminant_analysis import QuadraticDiscriminantAnalysis as QDA\n",
    "qda_clf = QDA(store_covariance=True)\n",
    "qda_clf.fit(x_train, y_train)\n",
    "y_pred = qda_clf.predict(x_test)\n",
    "accuracy = np.sum(y_pred == y_test) / len(y_test)\n",
    "print(\"QDA accuracy: {:.3f} %\".format(accuracy * 100))"
   ]
  },
  {
   "cell_type": "code",
   "execution_count": 50,
   "metadata": {
    "slideshow": {
     "slide_type": "subslide"
    }
   },
   "outputs": [
    {
     "name": "stdout",
     "output_type": "stream",
     "text": [
      "Naive-Bayes accuracy: 90.351 %\n"
     ]
    }
   ],
   "source": [
    "# naive bayes\n",
    "from sklearn.naive_bayes import GaussianNB\n",
    "nb_clf = GaussianNB()\n",
    "nb_clf.fit(x_train, y_train)\n",
    "y_pred = nb_clf.predict(x_test)\n",
    "accuracy = np.sum(y_pred == y_test) / len(y_test)\n",
    "print(\"Naive-Bayes accuracy: {:.3f} %\".format(accuracy * 100))"
   ]
  },
  {
   "cell_type": "markdown",
   "metadata": {
    "slideshow": {
     "slide_type": "slide"
    }
   },
   "source": [
    "### <img src=\"https://img.icons8.com/ultraviolet/80/000000/normal-distribution-histogram.png\" style=\"height:50px;display:inline\"> Gaussian Assumption - Linear Discriminant Analysis - LDA\n",
    "---\n",
    "* We assume the likelihood (class-conditioned probabilities) to be Gaussians and the **prior to be Categorical**, denoting: $P(y=c)=\\pi_c$\n",
    "* **LDA** - a special case of QDA where **the covarinace matrix is the same**, that is, the covarince matrices are shared accross classes: $\\Sigma_c = \\Sigma$\n",
    "* The MAP estimator/classifier: $$ P(y=c|X) = \\frac{P(X|y=c)P(y=c)}{P(X)} = \\frac{P(X|y=c)P(y=c)}{\\sum_{c'} P(X|y=c')P(y=c')} $$"
   ]
  },
  {
   "cell_type": "markdown",
   "metadata": {
    "slideshow": {
     "slide_type": "subslide"
    }
   },
   "source": [
    "* We select class $c$ that maximizes the conditional probability.\n",
    "    * $P(X|y=c,\\theta) = (2\\pi)^{-\\frac{d}{2}} |\\Sigma|^{-\\frac{1}{2}} e^{-\\frac{1}{2}(X-\\mu_c)^T\\Sigma^{-1}(X-\\mu_c)}$\n",
    "    * $(X-\\mu_c)^T\\Sigma^{-1}(X-\\mu_c) = X^T\\Sigma^{-1}X -2\\mu_c^T\\Sigma^{-1}X + \\mu_c^T \\Sigma^{-1} \\mu_c$\n",
    "    * We denote:\n",
    "        * $\\gamma_c = -\\frac{1}{2}\\mu_c^T\\Sigma^{-1}\\mu_c +\\log(\\pi_c)$\n",
    "        * $\\beta_c = \\Sigma^{-1} \\mu_c$\n",
    "    * $\\rightarrow P(y=c|X) = \\frac{P(X|y=c)P(y=c)}{\\sum_{c'} P(X|y=c')P(y=c')} = \\frac{e^{\\beta_c^TX+\\gamma_c}}{\\sum_{c'} e^{\\beta_{c'}^TX+\\gamma_{c'}}} $\n",
    "        * This is a **softmax function** (you can be asked \"show that LDA classification is similar to softmax\")\n",
    "        * In *Logistic Regression* we optimized it directly , whereas here we learn the entire **posterior** (discriminative vs. generative)"
   ]
  },
  {
   "cell_type": "markdown",
   "metadata": {
    "slideshow": {
     "slide_type": "slide"
    }
   },
   "source": [
    "* LDA for the **Binary** case: $$ \\pi_0(2\\pi)^{-\\frac{d}{2}} |\\Sigma|^{-\\frac{1}{2}} e^{-\\frac{1}{2}(X-\\mu_0)^T\\Sigma^{-1}(X-\\mu_0)} \\lessgtr \\pi_1(2\\pi)^{-\\frac{d}{2}} |\\Sigma|^{-\\frac{1}{2}} e^{-\\frac{1}{2}(X-\\mu_1)^T\\Sigma^{-1}(X-\\mu_1)}$$ \n",
    "$$e^{-\\frac{1}{2}(X-\\mu_0)^T\\Sigma^{-1}(X-\\mu_0)} \\lessgtr \\frac{\\pi_1}{\\pi_0} \\big(\\frac{|\\Sigma|}{|\\Sigma|} \\big)^{-\\frac{1}{2}} e^{-\\frac{1}{2}(X-\\mu_1)^T\\Sigma^{-1}(X-\\mu_1)}$$ $$ (X-\\mu_0)^T\\Sigma^{-1}(X-\\mu_0) \\gtrless \\log (\\frac{\\pi_1}{\\pi_0} \\big(\\frac{|\\Sigma|}{|\\Sigma|} \\big)) + (X-\\mu_1)^T\\Sigma^{-1}(X-\\mu_1) $$ $$ \\iff e^{\\beta_0^TX +\\gamma_0} \\gtrless e^{\\beta_1^TX +\\gamma_1}  $$ $$ \\delta_c(x) = \\log\\big(\\frac{P(y=0|X,\\theta)}{P(y=1|X,\\theta)}\\big) = \\log\\big(\\frac{e^{\\beta_0^TX +\\gamma_0}}{e^{\\beta_1^TX +\\gamma_1}}\\big) = (\\beta_0^T - \\beta_1^T)X + \\gamma_0 -\\gamma_1 \\gtrless 0  $$\n",
    "    * This is the same discriminant function from the lecture!\n",
    "* The above is **linear equation**: decision boundaries are linear."
   ]
  },
  {
   "cell_type": "markdown",
   "metadata": {
    "slideshow": {
     "slide_type": "subslide"
    }
   },
   "source": [
    "<img src=\"./assets/tut_09_lda.jpg\" style=\"height:300px\">"
   ]
  },
  {
   "cell_type": "markdown",
   "metadata": {
    "slideshow": {
     "slide_type": "subslide"
    }
   },
   "source": [
    "* **LDA Training**:\n",
    "    * Training can be performed by MLE parameter estimation:\n",
    "        * $\\hat{\\pi_c} = \\frac{n_c}{n}$\n",
    "        * $\\hat{\\mu_c} = \\frac{1}{n_c}\\sum_{i \\in c} X_i $\n",
    "        * $\\hat{\\Sigma} = \\frac{1}{n} \\sum_{i \\in c} (X_i -\\hat{\\mu}_{c_i})(X_i -\\hat{\\mu}_{c_i})^T $\n",
    "* In Scikit-Learn: `from sklearn.discriminant_analysis import LinearDiscriminantAnalysis`\n",
    "    * <a href=\"https://scikit-learn.org/stable/modules/lda_qda.html\">Doc</a>"
   ]
  },
  {
   "cell_type": "markdown",
   "metadata": {
    "slideshow": {
     "slide_type": "subslide"
    }
   },
   "source": [
    "* LDA maximizes **Rayleigh quotient**: $$ max\\frac{w^TS_Bw}{w^TS_Ww} $$\n",
    "    * $S_B$ - The scatter **between** classes\n",
    "    * $S_W$ - The scatter **within** classes\n",
    "* LDA maximizes **Fisher criterion**: $$ max\\frac{(\\tilde{m_1} - \\tilde{m_2})^2}{\\tilde{s_1}^2 + \\tilde{s_1}^2} $$\n",
    "    * $\\tilde{m_i}, \\tilde{s_i}^2$ - The mean and scatter of class $i$ (resp.)\n",
    "* **Diagonal LDA** - adds another assumption that the covariance matrix is diagonal - features are independent\n",
    "    * It is a private case of *Naive Bayes*"
   ]
  },
  {
   "cell_type": "code",
   "execution_count": 51,
   "metadata": {
    "slideshow": {
     "slide_type": "subslide"
    }
   },
   "outputs": [
    {
     "name": "stdout",
     "output_type": "stream",
     "text": [
      "LDA accuracy: 90.351 %\n"
     ]
    }
   ],
   "source": [
    "# lda\n",
    "from sklearn.discriminant_analysis import LinearDiscriminantAnalysis as LDA\n",
    "lda_clf = LDA()\n",
    "lda_clf.fit(x_train, y_train)\n",
    "y_pred = lda_clf.predict(x_test)\n",
    "accuracy = np.sum(y_pred == y_test) / len(y_test)\n",
    "print(\"LDA accuracy: {:.3f} %\".format(accuracy * 100))"
   ]
  },
  {
   "cell_type": "markdown",
   "metadata": {
    "slideshow": {
     "slide_type": "slide"
    }
   },
   "source": [
    "#### So Why They Are Called Generative Models?\n",
    "----\n",
    "* You can now sample a *data point* given a *label*, i.e. $P(X \\mid y)$.\n",
    "* In the discriminative approach you only model the probability of seeing a *label* given a *data point*, i.e. $P(y \\mid X)$."
   ]
  },
  {
   "cell_type": "markdown",
   "metadata": {
    "slideshow": {
     "slide_type": "slide"
    }
   },
   "source": [
    "## <img src=\"https://img.icons8.com/cotton/64/000000/boxing.png\" style=\"height:50px;display:inline\"> One Vs. All Classification\n",
    "---\n",
    "* How can we use binary classifiers when we have multiple labels/classes?\n",
    "    * The general idea is to build a classifier for each class, that is, if we have $k$ labels/classes, then we would have $k$ classifiers. Each classifier can classify **one** label. Each classifier is trained such that all of the samples that are not of the $i^{th}$ class are 0's, and the samples from the $i^{th}$ class are 1's. In test time, we will have $k$ predictions, one for each class, and we will choose the class that gets the highest probability."
   ]
  },
  {
   "cell_type": "markdown",
   "metadata": {
    "slideshow": {
     "slide_type": "subslide"
    }
   },
   "source": [
    "* Formally: Suppose we have the following 3-class problem: <img src=\"./assets/tut_09_one_vs_all_1.png\" style=\"height:200px\">\n",
    "\n",
    "* We can transform this problem into 3 binary classification problems (i.e. where we predict only $y \\in \\{0,1\\}$, to be able to use classifiers such as **Logistic Regression**. This is called **One-Vs-All**.\n",
    "* We take the values of one class and turn them into *positive* examples, and the rest of classes - *negative*."
   ]
  },
  {
   "cell_type": "markdown",
   "metadata": {
    "slideshow": {
     "slide_type": "subslide"
    }
   },
   "source": [
    "* **Step 1** - *triangles* are positive, the rest are negative and we train a classifier on them. We get $h_{\\theta}^{(1)}(x)$: <img src=\"./assets/tut_09_one_vs_all_2.png\" style=\"height:200px\">"
   ]
  },
  {
   "cell_type": "markdown",
   "metadata": {
    "slideshow": {
     "slide_type": "subslide"
    }
   },
   "source": [
    "* **Step 2** - the same with the *squares*. We get $h_{\\theta}^{(2)}(x)$: <img src=\"./assets/tut_09_one_vs_all_3.png\" style=\"height:200px\">"
   ]
  },
  {
   "cell_type": "markdown",
   "metadata": {
    "slideshow": {
     "slide_type": "subslide"
    }
   },
   "source": [
    "* **Step 3** - finally, the *x's* are positive. We get $h_{\\theta}^{(3)}(x)$: <img src=\"./assets/tut_09_one_vs_all_4.png\" style=\"height:200px\">"
   ]
  },
  {
   "cell_type": "markdown",
   "metadata": {
    "slideshow": {
     "slide_type": "subslide"
    }
   },
   "source": [
    "* We now have 3 classifiers, such that $h_{\\theta}^{(i)}(x) = P(y=i|x;\\theta), \\text{ for } i=1, 2, 3$\n",
    "* We concatenate the predictions to one vector: $h_{\\theta}(x) = [h_{\\theta}^{(1)}, h_{\\theta}^{(2)}, h_{\\theta}^{(3)}]$\n",
    "* We pick the maximal class as the prediciton (i.e., the class that is most probable): $\\hat{y} = \\underset{i}{argmax} [h_{\\theta}(x)]$\n",
    "* This can be done with any classification algorithm that can output probability (Logistic Regression, Decision Trees...)\n",
    "* Source: <a href=\"http://mlwiki.org/index.php/One-vs-All_Classification\">ML Wiki - One-vs-All Classification</a>"
   ]
  },
  {
   "cell_type": "markdown",
   "metadata": {
    "slideshow": {
     "slide_type": "slide"
    }
   },
   "source": [
    "### <img src=\"https://img.icons8.com/bubbles/50/000000/video-playlist.png\" style=\"height:50px;display:inline\"> Recommended Videos\n",
    "---\n",
    "#### <img src=\"https://img.icons8.com/cute-clipart/64/000000/warning-shield.png\" style=\"height:30px;display:inline\"> Warning!\n",
    "* These videos do not replace the lectures and tutorials.\n",
    "* Please use these to get a better understanding of the material, and not as an alternative to the written material.\n",
    "\n",
    "#### Video By Subject\n",
    "\n",
    "* Pereceptron - <a href=\"https://www.youtube.com/watch?v=4Gac5I64LM4\">Pereceptron</a>\n",
    "    * <a href=\"https://www.youtube.com/watch?v=5g0TPrxKK6o\">Perceptron Training</a>\n",
    "* ADALINE - <a href=\"https://www.youtube.com/watch?v=_xJF-U-Wt8I\">LMS Algorithm, ADALINE v/s PERCEPTRON</a>\n",
    "* Logistic Regression - <a href=\"https://www.youtube.com/watch?v=HZ4cvaztQEs\">Lecture 3 | Machine Learning (Stanford)</a>\n",
    "    * <a href=\"https://www.youtube.com/watch?v=yIYKR4sgzI8\">StatQuest: Logistic Regression</a>\n",
    "* Softmax Regression - <a href=\"https://www.youtube.com/watch?v=LLux1SW--oM\">Softmax Regression (C2W3L08)</a>\n",
    "* Linear Discriminant Analysis (LDA) - <a href=\"https://www.youtube.com/watch?v=azXCzI57Yfc\">StatQuest: Linear Discriminant Analysis (LDA) clearly explained</a>\n",
    "    * PCA vs. LDA - <a href=\"https://www.youtube.com/watch?v=6Ht-nIf_NKc\">PCA 11: linear discriminant analysis</a>\n",
    "* Quadratic Discriminant Analysis (QDA) - <a href=\"https://www.youtube.com/watch?v=vp44az4pNz4\">Quadratic Discriminant Analysis (Parts 1-3)</a>\n",
    "* Naive Bayes - <a href=\"https://www.youtube.com/watch?v=M59h7CFUwPU\">Naive Bayes - Georgia Tech - Machine Learning</a>"
   ]
  },
  {
   "cell_type": "markdown",
   "metadata": {
    "slideshow": {
     "slide_type": "skip"
    }
   },
   "source": [
    "## <img src=\"https://img.icons8.com/dusk/64/000000/prize.png\" style=\"height:50px;display:inline\"> Credits\n",
    "---\n",
    "* Icons from <a href=\"https://icons8.com/\">Icon8.com</a> - https://icons8.com\n",
    "* Datasets from <a href=\"https://www.kaggle.com/\">Kaggle</a> - https://www.kaggle.com/\n",
    "* Examples and code snippets were taken from <a href=\"http://shop.oreilly.com/product/0636920052289.do\">\"Hands-On Machine Learning with Scikit-Learn and TensorFlow\"</a>"
   ]
  }
 ],
 "metadata": {
  "kernelspec": {
   "display_name": "Python 3",
   "language": "python",
   "name": "python3"
  },
  "language_info": {
   "codemirror_mode": {
    "name": "ipython",
    "version": 3
   },
   "file_extension": ".py",
   "mimetype": "text/x-python",
   "name": "python",
   "nbconvert_exporter": "python",
   "pygments_lexer": "ipython3",
   "version": "3.6.9"
  }
 },
 "nbformat": 4,
 "nbformat_minor": 2
}
