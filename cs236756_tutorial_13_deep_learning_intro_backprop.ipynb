{
 "cells": [
  {
   "cell_type": "markdown",
   "metadata": {
    "slideshow": {
     "slide_type": "slide"
    }
   },
   "source": [
    "# <img src=\"https://img.icons8.com/dusk/64/000000/mind-map.png\" style=\"height:50px;display:inline\"> CS 236756 - Technion - Intro to Machine Learning\n",
    "---\n",
    "#### Tal Daniel\n",
    "\n",
    "## Tutorial 13 - Deep Learning Introduction & Backpropagation\n",
    "---\n",
    "\n",
    "<img src=\"./assets/tut_12_intro.jpg\" style=\"height:200px\">"
   ]
  },
  {
   "cell_type": "markdown",
   "metadata": {
    "slideshow": {
     "slide_type": "slide"
    }
   },
   "source": [
    "### <img src=\"https://img.icons8.com/bubbles/50/000000/checklist.png\" style=\"height:50px;display:inline\"> Agenda\n",
    "---\n",
    "* [Motivation](#-Motivation)\n",
    "    * [Demo - Solving the XOR Problem](#-Demo---Solving-the-XOR-Problem)\n",
    "* [Problem Formulation](#-The-Optimization-Problem)\n",
    "    * [Optimization Problem](#-The-Optimization-Problem)\n",
    "    * [Multi-Layer Perceptron (MLP)](#-Multi-Layer-Perceptron-(MLP) )\n",
    "* [Modular Approach](#-Modular-Approach)\n",
    "    * [Building Blocks & Backpropagation](#-Backpropagation)\n",
    "* [Regression Problem](#-Example---Neural-Networks-for-Regression---Housing-Prices)\n",
    "* [Backpropagation By Hand Exercise](#-Backpropagation-By-Hand--Exercise)\n",
    "* [Recommended Videos](#-Recommended-Videos)\n",
    "* [Credits](#-Credits)"
   ]
  },
  {
   "cell_type": "code",
   "execution_count": 1,
   "metadata": {
    "slideshow": {
     "slide_type": "skip"
    }
   },
   "outputs": [],
   "source": [
    "# imports for the tutorial\n",
    "import numpy as np\n",
    "import pandas as pd\n",
    "import matplotlib.pyplot as plt\n",
    "from sklearn.datasets import load_boston\n",
    "from sklearn.model_selection import train_test_split\n",
    "from sklearn.preprocessing import StandardScaler\n",
    "from sklearn.neural_network import MLPRegressor\n",
    "%matplotlib notebook"
   ]
  },
  {
   "cell_type": "markdown",
   "metadata": {
    "slideshow": {
     "slide_type": "slide"
    }
   },
   "source": [
    "## <img src=\"https://img.icons8.com/dusk/64/000000/confetti.png\" style=\"height:50px;display:inline\"> Motivation\n",
    "---\n",
    "* From the biological perspective, it seems logical to look at the brain's architecture for inspiration on how to build an intelligent machine. \n",
    "* This is the main idea that inspired *artificial neural networks* (ANN) which later developed into *deep neural networks* (DNN)"
   ]
  },
  {
   "cell_type": "markdown",
   "metadata": {
    "slideshow": {
     "slide_type": "slide"
    }
   },
   "source": [
    "### <img src=\"https://img.icons8.com/bubbles/100/000000/lightning-bolt.png\" style=\"height:50px;display:inline\"> The Perceptron Expressive Power\n",
    "---\n",
    "#### Reminder (Tutorial 9) - The Perceptron\n",
    "\n",
    "* Based on a *linear threshold unit* (LTU): the input and output are numbers (not binary values), and each connection is associated with a weight.\n",
    "* The LTU computes a weighted sum of its inputs: $z = w_1x_1 + w_2x_2 +....+w_nx_n = w_Tx$, and then it applies a **step function** to that sum and outputs the result: $$ h_w(x) = step(z) = step(w^Tx) $$"
   ]
  },
  {
   "cell_type": "markdown",
   "metadata": {
    "slideshow": {
     "slide_type": "subslide"
    }
   },
   "source": [
    "Illustration: <img src=\"./assets/tut_09_perceptron.jpg\" style=\"height:200px\">"
   ]
  },
  {
   "cell_type": "markdown",
   "metadata": {
    "slideshow": {
     "slide_type": "subslide"
    }
   },
   "source": [
    "* The most common step function used is the *Heaviside step function* but sometimes the *sign function* is used (as is the illustration).\n",
    "* **Perceptron Training** draws inspiration from biological neurons: the connection weight between two neurons is increased whenever they have **the same output**. Perceptrons are trained by considering the error made.\n",
    "    * At each iteration, the Perceptron is fed with one training instance and makes a prediction for it.\n",
    "    * For every output that produced a wrong prediction, it reinforces the connection weights from the inputs that would ahve contributed to the correct prediction.\n",
    "    * Criterion: $ E^{perc}(w) = - \\sum_{i \\in D_{miss}}w^T(x^iy^i) $\n",
    "* **Perceptron Learning Rule (weight update)**: $$ w_{t+1} = w_t +\\eta(y_i -sign(w_t^Tx_i))x_i $$\n",
    "    * $\\eta$ is the learing rate\n",
    "* The decision boundary learned is linear, the Perceptron is incapable of learning complex patterns."
   ]
  },
  {
   "cell_type": "markdown",
   "metadata": {
    "slideshow": {
     "slide_type": "subslide"
    }
   },
   "source": [
    "* **Perceptron Convergence Theorem**: If the training instances are **linearly seperable**, the algorithm would converge to a solution.\n",
    "    * **There can be multiple solutions (multiple hyperplanes)**\n",
    "* Perceptrons do not output a class probability, they just make predicitons based on a **hard threshold** (they output an un-normalized score)."
   ]
  },
  {
   "cell_type": "markdown",
   "metadata": {
    "slideshow": {
     "slide_type": "subslide"
    }
   },
   "source": [
    "* **What mappings can a Perceptron represent perfectly?**\n",
    "    * The Perceptron is a **linear classifier**.\n",
    "    * Thus, it can represent any mapping that is linearly separable.\n",
    "        * Some Boolean functions like *AND* and *OR* (left figure)\n",
    "        * But not Boolean functions like *XOR* (right figure)"
   ]
  },
  {
   "cell_type": "markdown",
   "metadata": {
    "slideshow": {
     "slide_type": "subslide"
    }
   },
   "source": [
    "* This was demonstrated in the work of Minsky and Papert named *Perceptron*, 1969:\n",
    "\n",
    "<img src=\"./assets/tut_12_boolean.jpg\" style=\"height:200px\">"
   ]
  },
  {
   "cell_type": "markdown",
   "metadata": {
    "slideshow": {
     "slide_type": "slide"
    }
   },
   "source": [
    "###  <img src=\"https://img.icons8.com/dusk/64/000000/classroom.png\" style=\"height:50px;display:inline\"> Demo - Solving the XOR Problem\n",
    "---\n",
    "In the XOR problem we have 2 classes such that:\n",
    "\n",
    "| Input | Output   |\n",
    "|------|------|\n",
    "|   [-1,-1]  | 0|\n",
    "|   [-1,1]  | 1|\n",
    "|   [1,1]  | 0|\n",
    "|   [1,-1]  | 1|"
   ]
  },
  {
   "cell_type": "code",
   "execution_count": 2,
   "metadata": {
    "slideshow": {
     "slide_type": "skip"
    }
   },
   "outputs": [],
   "source": [
    "def plot_xor_problem():\n",
    "    x1 = [-1, 1]\n",
    "    y1 = [-1, 1]\n",
    "    x2 = [-1, 1]\n",
    "    y2 = [1, -1]\n",
    "    fig = plt.figure(figsize=(5,5))\n",
    "    ax = fig.add_subplot(1,1,1)\n",
    "    ax.plot(x1, y1, 'ro')\n",
    "    ax.plot(x2, y2, 'bo')\n",
    "    ax.grid()\n",
    "    ax.set_xlabel('x')\n",
    "    ax.set_ylabel('y')\n",
    "    ax.set_title('The XOR problem')"
   ]
  },
  {
   "cell_type": "code",
   "execution_count": 3,
   "metadata": {
    "slideshow": {
     "slide_type": "subslide"
    }
   },
   "outputs": [
    {
     "data": {
      "image/png": "[encoded data removed]",
      "text/plain": [
       "<Figure size 360x360 with 1 Axes>"
      ]
     },
     "metadata": {
      "needs_background": "light"
     },
     "output_type": "display_data"
    }
   ],
   "source": [
    "# the xor problem\n",
    "plot_xor_problem()"
   ]
  },
  {
   "cell_type": "markdown",
   "metadata": {
    "slideshow": {
     "slide_type": "subslide"
    }
   },
   "source": [
    "### <a href=\"https://playground.tensorflow.org/#activation=relu&batchSize=10&dataset=xor&regDataset=reg-plane&learningRate=0.03&regularizationRate=0&noise=0&networkShape=5&seed=0.35101&showTestData=false&discretize=false&percTrainData=50&x=true&y=true&xTimesY=false&xSquared=false&ySquared=false&cosX=false&sinX=false&cosY=false&sinY=false&collectStats=false&problem=classification&initZero=false&hideText=false\"> Online Demo (@ TensorFlow) </a>\n",
    "* Parameters to play with:\n",
    "    * Number of layers\n",
    "    * Feature construction (add $x_1x_2$ and see what happens)\n",
    "    * Problem Type: change from classification to regression"
   ]
  },
  {
   "cell_type": "markdown",
   "metadata": {
    "slideshow": {
     "slide_type": "slide"
    }
   },
   "source": [
    "## <img src=\"https://img.icons8.com/bubbles/100/000000/maintenance.png\" style=\"height:50px;display:inline\"> The Optimization Problem\n",
    "---\n",
    "<img src=\"./assets/tut_12_optim_general.jpg\" style=\"height:200px\">"
   ]
  },
  {
   "cell_type": "markdown",
   "metadata": {
    "slideshow": {
     "slide_type": "subslide"
    }
   },
   "source": [
    "* The Design Variables (Parameters)\n",
    "    * The network weights\n",
    "* The problem:\n",
    "    * Search for the weights' values that minimize the **loss function**"
   ]
  },
  {
   "cell_type": "markdown",
   "metadata": {
    "slideshow": {
     "slide_type": "slide"
    }
   },
   "source": [
    "### <img src=\"https://img.icons8.com/dusk/100/000000/stocks.png\" style=\"height:50px;display:inline\"> Reminder - Regression (Tutorial 8)\n",
    "---\n",
    "To find the value of $\\theta$ that minimizes the cost function, there is a *closed-form solution* - a mathemtical equation that gives the result directly. It is also called the **Normal Equation**. We will now derive it.\n",
    "\n",
    "* We wish to find a solution for $\\hat{y} = X \\theta$\n",
    "* The parameters $\\theta$ are obtained by minimzing the *sum of squared* errors or residuals (SSE): $$ SSE(\\theta) = \\sum_{i=1}^n (\\theta^T x_i - y_i)^2 = ||X \\theta -y ||_2^2 = (X\\theta -y)^T(X\\theta - y) = \\theta^TX^TX\\theta -\\theta^Tx^Ty - y^TX\\theta +y^Ty$$\n",
    "* Minimizing w.r.t to $\\theta$: $$\\nabla_{\\theta}SSE(\\theta) = 2X^TX\\theta - 2X^Ty = 0 \\rightarrow \\theta^{*} = (X^TX)^{-1}X^Ty $$\n",
    "* The matrix $(X^TX)^{-1}X^T$ is the *Pseudo Inverse* of $X$\n",
    "* **How do we solve the multi layer model?**\n",
    "    * The inputs of every layer is now the output of the previous layer ($X$ is not just the original input)\n",
    "    * We have weights for every layer, that is, $w$ is now a matrix $W$\n"
   ]
  },
  {
   "cell_type": "markdown",
   "metadata": {
    "slideshow": {
     "slide_type": "slide"
    }
   },
   "source": [
    "### <img src=\"https://img.icons8.com/dusk/64/000000/layers.png\" style=\"height:50px;display:inline\"> Multi-Layer Perceptron (MLP)\n",
    "---\n",
    "* An MLP is composed of one input layer, one or more hidden layers and a final output layer. \n",
    "* Every layer, except the output layer includes a **bias neuron** which is fully connected to the next layer. \n",
    "* When the number of hidden layers is larger than 2, the network is usually called a deep neural network (DNN)."
   ]
  },
  {
   "cell_type": "markdown",
   "metadata": {
    "slideshow": {
     "slide_type": "subslide"
    }
   },
   "source": [
    "* The algorithm is composed of two main parts: **forward pass and backward pass**.\n",
    "* In the *forward pass*, for each training instance, the algorithm feeds it to the network and computes the output of every neuron in each consecutive layer (using the network for prediction is just doing a forward pass). \n",
    "* Then, the output error (the difference between the desired output and the actual output from the network) is computed."
   ]
  },
  {
   "cell_type": "markdown",
   "metadata": {
    "slideshow": {
     "slide_type": "subslide"
    }
   },
   "source": [
    "* After the output error calculation, the network calculates how much each neuron in the last hidden layer contributed to the output error (using the **chain rule**).\n",
    "* It then proceeds to measure how much of these error contributions came from each neuron in the previous layers until reaching the input layer. \n",
    "* This is the *backward pass*: measuring the error gradient across all the connection weights in the network by propagating the error gradient backward in the network (this is the backpropagation process)."
   ]
  },
  {
   "cell_type": "markdown",
   "metadata": {
    "slideshow": {
     "slide_type": "subslide"
    }
   },
   "source": [
    "In short: for each training instance the **backpropagation algorithm** first makes a prediction (forward pass), measures the error, then goes in reverse to measure the error contribution from each connection (backward pass) and finally, using Gradient Descent, updates the weights in the direction that reduces the error."
   ]
  },
  {
   "cell_type": "markdown",
   "metadata": {
    "slideshow": {
     "slide_type": "subslide"
    }
   },
   "source": [
    "<img src=\"./assets/tut_12_mlp.jpg\" style=\"height:300px\">"
   ]
  },
  {
   "cell_type": "markdown",
   "metadata": {
    "slideshow": {
     "slide_type": "fragment"
    }
   },
   "source": [
    "For example, if: $$ X \\in \\mathbb{R}^2 $$ $$ W_1 \\in \\mathbb{R}^{2 \\times 4} $$ $$ W_2 \\in \\mathbb{R}^{4 \\times 3} $$ $$ W_3 \\in \\mathbb{R}^{3 \\times 1} $$ $$ b_1 \\in \\mathbb{R}^4 $$ $$ b_2 \\in \\mathbb{R}^3 $$ $$ b_3 \\in \\mathbb{R} $$ Then: $$ F(X,W) = W_3^T \\phi_2(W_2^T\\phi_1(W_1^TX + b_1) + b_2) + b_3 $$"
   ]
  },
  {
   "cell_type": "markdown",
   "metadata": {
    "slideshow": {
     "slide_type": "subslide"
    }
   },
   "source": [
    "The key change made to the Perceptron that brought upon the era of deep learning is the addition of **Activation function** to the output of each neuron. These allow the learning of non-linear functions. We will use three popular activation functions:\n",
    "1. **Logistic function (sigmoid)**: $\\sigma(z) = \\frac{1}{1 + e^{-z}}$. The output is in $[0,1]$ which can be used for binary clssification or as a probability (why?)\n",
    "2. **Hyperbolic tangent function**: $tanh(z) = 2\\sigma(2z) - 1$. The output is in $[-1,1]$ which tends to make each layer's output more or less normalized at the beginning of the training (which may speed up convergence).\n",
    "3. **ReLU (Rectified Linear Unit) function**: $ReLU(z) = max(0,z)$. Continuous but not differentiable at $z=0$. However, it is the most common activation function as it is fast to compute and does not bound the output (which helps with some issues during Gradient Descent)."
   ]
  },
  {
   "cell_type": "markdown",
   "metadata": {
    "slideshow": {
     "slide_type": "subslide"
    }
   },
   "source": [
    "**The Activation functions derivatives (for the backpropagation)**:\n",
    "1. $\\frac{d\\sigma(z)}{dz} = \\sigma(z)(1-\\sigma(z))$\n",
    "2. $\\frac{d tanh(z)}{dz} = 1 - tanh^2(z)$\n",
    "3. We define the derivative at 0 to be zero: $\\frac{d ReLU(z)}{dz} = 1$ if $x>0$ else $0$"
   ]
  },
  {
   "cell_type": "code",
   "execution_count": 4,
   "metadata": {
    "slideshow": {
     "slide_type": "subslide"
    }
   },
   "outputs": [],
   "source": [
    "# activation functions\n",
    "def sigmoid(z, deriv=False):\n",
    "    output = 1 / (1 + np.exp(-1.0 * z))\n",
    "    if deriv:\n",
    "        return output * (1 - output)\n",
    "    return output\n",
    "\n",
    "def tanh(z, deriv=False):\n",
    "    output = np.tanh(z)\n",
    "    if deriv:\n",
    "        return 1 - np.square(output)\n",
    "    return output\n",
    "\n",
    "def relu(z, deriv=False):\n",
    "    output = z if z > 0 else 0\n",
    "    if deriv:\n",
    "        return 1 if z > 0 else 0\n",
    "    return output"
   ]
  },
  {
   "cell_type": "code",
   "execution_count": 5,
   "metadata": {
    "slideshow": {
     "slide_type": "skip"
    }
   },
   "outputs": [],
   "source": [
    "def plot_activations():\n",
    "    x = np.linspace(-5, 5, 1000)\n",
    "    y_sig = sigmoid(x)\n",
    "    y_tanh = tanh(x)\n",
    "    y_relu = list(map(lambda z: relu(z), x))\n",
    "    fig = plt.figure(figsize=(8, 5))\n",
    "    ax1 = fig.add_subplot(2,1,1)\n",
    "    ax1.plot(x, y_sig, label='sigmoid')\n",
    "    ax1.plot(x, y_tanh, label='tanh')\n",
    "    ax1.plot(x, y_relu, label='relu')\n",
    "    ax1.grid()\n",
    "    ax1.legend()\n",
    "    ax1.set_xlabel('x')\n",
    "    ax1.set_ylabel('y')\n",
    "    ax1.set_ylim([-2, 2])\n",
    "    ax1.set_title('Activation Functions')\n",
    "\n",
    "    y_sig_derv = sigmoid(x, deriv=True)\n",
    "    y_tanh_derv = tanh(x, deriv=True)\n",
    "    y_relu_derv = list(map(lambda z: relu(z, deriv=True), x))\n",
    "    ax2 = fig.add_subplot(2,1,2)\n",
    "    ax2.plot(x, y_sig_derv, label='sigmoid')\n",
    "    ax2.plot(x, y_tanh_derv, label='tanh')\n",
    "    ax2.plot(x, y_relu_derv, label='relu')\n",
    "    ax2.grid()\n",
    "    ax2.legend()\n",
    "    ax2.set_xlabel('x')\n",
    "    ax2.set_ylabel('y')\n",
    "    # ax2.set_ylim([-2, 2])\n",
    "    ax2.set_title('Activation Functions Derivatives')\n",
    "    plt.tight_layout()"
   ]
  },
  {
   "cell_type": "code",
   "execution_count": 6,
   "metadata": {
    "slideshow": {
     "slide_type": "subslide"
    }
   },
   "outputs": [
    {
     "data": {
      "image/png": "[encoded data removed]",
      "text/plain": [
       "<Figure size 576x360 with 2 Axes>"
      ]
     },
     "metadata": {
      "needs_background": "light"
     },
     "output_type": "display_data"
    }
   ],
   "source": [
    "# plot\n",
    "plot_activations()"
   ]
  },
  {
   "cell_type": "markdown",
   "metadata": {
    "slideshow": {
     "slide_type": "slide"
    }
   },
   "source": [
    "### <img src=\"https://img.icons8.com/color/96/000000/drill.png\" style=\"height:50px;display:inline\"> Optimizing MLPs\n",
    "---\n",
    "* Optimization is performed by stochastic gradient descent (SGD) and the chain rule - **backpropagation**.\n",
    "* Reminder - **The Chain Rule**:\n",
    "    * Given a function: $F(X)=f(g(x))$\n",
    "    * Denote: $y=g(x), z=f(y)$\n",
    "    * The derivative is given by: $$ \\frac{dz}{dx} = \\frac{dz}{dy} \\cdot \\frac{dy}{dx} = f'(y)g'(x) = f'(g(x))g'(x) $$"
   ]
  },
  {
   "cell_type": "markdown",
   "metadata": {
    "slideshow": {
     "slide_type": "slide"
    }
   },
   "source": [
    "#### <img src=\"https://img.icons8.com/doodle/96/000000/link.png\" style=\"height:30px;display:inline\"> Optimizing MLPs -  Simple Example\n",
    "---\n",
    "* Demonstration for a simple 1D regressor: $$ f(x) = w_2 \\cdot \\sigma(w_1x + b_1) + b_2 $$ $$ E(x,y) = (f(x) - y)^2 $$\n",
    "    * $\\sigma(x)$ is the *sigmoid* function\n",
    "* Denote: $$ u = w_1x + b_1 $$ $$ v=\\sigma(u) $$ $$ z=f(x)=w_2v + b_2 $$"
   ]
  },
  {
   "cell_type": "markdown",
   "metadata": {
    "slideshow": {
     "slide_type": "subslide"
    }
   },
   "source": [
    "* The derivatives:\n",
    "    * $\\frac{\\partial E}{\\partial w_2} = \\frac{\\partial E}{\\partial z} \\frac{\\partial z}{\\partial w_2} = 2(f(x)-y) \\cdot \\sigma(w_1x + b_1)$\n",
    "    * $\\frac{\\partial E}{\\partial b_2} = \\frac{\\partial E}{\\partial z} \\frac{\\partial z}{\\partial b_2} = 2(f(x)-y) \\cdot 1$\n",
    "    * $\\frac{\\partial E}{\\partial w_1} = \\frac{\\partial E}{\\partial z} \\frac{\\partial z}{\\partial v} \\frac{\\partial v}{\\partial u} \\frac{\\partial u}{\\partial w_1} = 2(f(x)-y) \\cdot w_2 \\sigma(u)(1-\\sigma(u)) \\cdot x$\n",
    "    * $\\frac{\\partial E}{\\partial b_1} = \\frac{\\partial E}{\\partial z} \\frac{\\partial z}{\\partial v} \\frac{\\partial v}{\\partial u} \\frac{\\partial u}{\\partial b_1} = 2(f(x)-y) \\cdot w_2 \\sigma(u)(1-\\sigma(u)) \\cdot 1$"
   ]
  },
  {
   "cell_type": "markdown",
   "metadata": {
    "slideshow": {
     "slide_type": "subslide"
    }
   },
   "source": [
    "### <img src=\"https://img.icons8.com/color/96/000000/drill.png\" style=\"height:50px;display:inline\"> Optimizing MLPs - Cont.\n",
    "---\n",
    "* Once we calculated all the derivatives we're done! We can now train MLPs!\n",
    "* Calculating the derivatives for every network is time consuming and becomes difficult for large networks.\n",
    "* Rather than explicitly deriving the gradient of the loss function with respect to every variable, we will take a modular approach."
   ]
  },
  {
   "cell_type": "markdown",
   "metadata": {
    "slideshow": {
     "slide_type": "slide"
    }
   },
   "source": [
    "## <img src=\"https://img.icons8.com/dusk/64/000000/lego-head.png\" style=\"height:50px;display:inline\"> Modular Approach\n",
    "---\n",
    "* We code **layers**, not networks.\n",
    "* Layer Specification - each layer needs to provide 3 functions:\n",
    "    1. The layer output given its input (forward pass)\n",
    "    2. Derivative with respect to the input\n",
    "    3. Derivative with respect to parameters"
   ]
  },
  {
   "cell_type": "markdown",
   "metadata": {
    "slideshow": {
     "slide_type": "subslide"
    }
   },
   "source": [
    "Illustration: <img src=\"./assets/tut_12_mod_app_1.jpg\" style=\"height:350px\">"
   ]
  },
  {
   "cell_type": "markdown",
   "metadata": {
    "slideshow": {
     "slide_type": "subslide"
    }
   },
   "source": [
    "Zoom-in: <img src=\"./assets/tut_12_mod_app_2.jpg\" style=\"height:200px\">"
   ]
  },
  {
   "cell_type": "markdown",
   "metadata": {
    "slideshow": {
     "slide_type": "slide"
    }
   },
   "source": [
    "### <img src=\"https://img.icons8.com/plasticine/100/000000/serial-tasks.png\" style=\"height:50px;display:inline\"> Backpropagation\n",
    "---\n",
    "We now establish a common language when it comes to neural networks architecture:\n",
    "* **Forward Pass**: $Z^{(k+1)} = f(Z^{(k)}) $\n",
    "* **Backward Pass**: $\\delta^{(k+1)} = \\frac{\\partial E}{\\partial Z^{(k+1)}}$\n",
    "* Applying the **chain rule** for a single layer: $$ \\frac{\\partial E}{\\partial Z^{(k)}} = \\frac{\\partial E}{\\partial Z^{(k+1)}} \\frac{\\partial Z^{(k+1)}}{\\partial Z^{(k)}} = \\delta^{(k+1)}\\frac{\\partial Z^{(k+1)}}{\\partial Z^{(k)}} = \\delta^{(k+1)}\\frac{\\partial f(Z^{(k)})}{\\partial Z^{(k)}} $$\n",
    "* The **gradient with respect to layer parameters** (if it has any): $$ \\frac{\\partial E}{\\partial W^{(k)}} = \\frac{\\partial E}{\\partial Z^{(k+1)}} \\frac{\\partial Z^{(k+1)}}{\\partial W^{(k)}} = \\delta^{(k+1)} \\frac{\\partial Z^{(k+1)}}{\\partial W^{(k)}}  $$"
   ]
  },
  {
   "cell_type": "markdown",
   "metadata": {
    "slideshow": {
     "slide_type": "slide"
    }
   },
   "source": [
    "### <img src=\"https://img.icons8.com/color/96/000000/3d-glasses.png\" style=\"height:50px;display:inline\"> Extension to Multi-Dimensions\n",
    "---\n",
    "* $f: \\mathbb{R}^n \\to \\mathbb{R}^m$ is a vector function of a vector variable: $$ f(x) = \\begin{bmatrix} f_1(x) \\\\ \\vdots \\\\ f_m(x) \\end{bmatrix}, x \\in \\mathbb{R}^n, f(x) \\in \\mathbb{R}^m $$\n",
    "* The **gradient** is given by: $$ \\frac{\\partial f_i}{\\partial x} = \\big[ \\frac{\\partial f_i(x)}{\\partial x_1}, ..., \\frac{\\partial f_i(x)}{\\partial x_n} \\big] $$\n",
    "* The **Jacobian**, $J_f(x) \\in \\mathbb{R}^{m \\times n}$, is given by: $$ J_f(x) = \\begin{bmatrix} \\frac{\\partial f_1(x)}{\\partial x}\\\\ \\vdots\\\\ \\frac{\\partial f_m(x)}{\\partial x} \\end{bmatrix} = \\begin{bmatrix} \\frac{\\partial f_1}{\\partial x_1} && \\cdots && \\frac{\\partial f_1}{\\partial x_n} \\\\ \\vdots && \\ddots && \\vdots \\\\ \\frac{\\partial f_m}{\\partial x_1} && \\cdots && \\frac{\\partial f_m}{\\partial x_n} \\end{bmatrix} $$"
   ]
  },
  {
   "cell_type": "markdown",
   "metadata": {
    "slideshow": {
     "slide_type": "subslide"
    }
   },
   "source": [
    "* **The Chain Rule**:\n",
    "    * Given: $$ F: \\mathbb{R}^n \\to \\mathbb{R}^m $$ $$ \\phi: \\mathbb{R}^m \\to \\mathbb{R}^k $$ $$ \\psi(x)= \\phi(F(x)) $$\n",
    "    * The Jacobian is given by: $$ J_{\\psi} = J_{\\phi} J_F $$ $$ J_{\\phi} \\in \\mathbb{R}^{k \\times m}, J_F \\in  \\mathbb{R}^{m \\times n} \\to J_{\\psi} \\in \\mathbb{R}^{k \\times n}$$"
   ]
  },
  {
   "cell_type": "markdown",
   "metadata": {
    "slideshow": {
     "slide_type": "slide"
    }
   },
   "source": [
    "### <img src=\"https://img.icons8.com/dusk/64/000000/popular-topic.png\" style=\"height:50px;display:inline\"> Commonly Used Layers (as Modular Blocks)\n",
    "---\n",
    "* Linear Layer (linear combination of the inputs)\n",
    "* Activation Layer (usually together with the linear layer, apply a function on the linear combination of weighted inputs): ReLU, Binary Step, Sigmoid, TanH...\n",
    "* Softmax Layer (Sigmoid for for than 2 classes, outputs the probability of each class)\n",
    "* Loss Function Layer (MSE, Cross Entropy...)"
   ]
  },
  {
   "cell_type": "markdown",
   "metadata": {
    "slideshow": {
     "slide_type": "slide"
    }
   },
   "source": [
    "## <img src=\"https://img.icons8.com/dusk/64/000000/home.png\" style=\"height:50px;display:inline\"> Example - Neural Networks for Regression - Housing Prices\n",
    "---\n",
    "* The Housing Prices Dataset:\n",
    "    * Two input features: *Size* and *Floor*\n",
    "    * One output: *House Price*\n",
    "    * **Loss function**: MSE\n",
    "* Suggested **network architecture**: 2 hidden layers\n",
    "    * Two inputs, one for each feature\n",
    "    * Four neurons in the *first hidden layer*\n",
    "    * Three neurons in the *second hidden layer*\n",
    "    * One output"
   ]
  },
  {
   "cell_type": "markdown",
   "metadata": {
    "slideshow": {
     "slide_type": "subslide"
    }
   },
   "source": [
    "Layout: <img src=\"./assets/tut_12_mlp.jpg\" style=\"height:300px\"> $$ F(X,W) = W_3^T \\phi_2(W_2^T\\phi_1(W_1^TX + b_1) + b_2) + b_3 $$"
   ]
  },
  {
   "cell_type": "markdown",
   "metadata": {
    "slideshow": {
     "slide_type": "subslide"
    }
   },
   "source": [
    "Where: $$ X \\in \\mathbb{R}^2 $$ $$ W_1 \\in \\mathbb{R}^{2 \\times 4} $$ $$ W_2 \\in \\mathbb{R}^{4 \\times 3} $$ $$ W_3 \\in \\mathbb{R}^{3 \\times 1} $$ $$ b_1 \\in \\mathbb{R}^4 $$ $$ b_2 \\in \\mathbb{R}^3 $$ $$ b_3 \\in \\mathbb{R} $$"
   ]
  },
  {
   "cell_type": "markdown",
   "metadata": {
    "slideshow": {
     "slide_type": "slide"
    }
   },
   "source": [
    "### <img src=\"https://img.icons8.com/office/80/000000/baby-footprints-path.png\" style=\"height:50px;display:inline\"> Step-by-Step Solution\n",
    "---\n",
    "* The MSE loss function over all the training examples $x_i$ and the corresponding training targets: $$ Error = \\frac{1}{N} \\sum_{i=1}^N (F(x_i, W) - y_i)^2 = \\frac{1}{N} ||F(X, W) - Y||_2^2 $$\n",
    "* Linear Layer: $$ u_{out} = W^Tu_{in} + b $$"
   ]
  },
  {
   "cell_type": "markdown",
   "metadata": {
    "slideshow": {
     "slide_type": "subslide"
    }
   },
   "source": [
    "* Activation Layer:\n",
    "    * $\\phi_1$ and $\\phi_2$ are multivariate vector *nonlinear* functions, such that: $$ \\phi(U) = \\phi(\\begin{bmatrix} u_1 \\\\ \\vdots \\\\ u_n \\end{bmatrix}) = \\begin{bmatrix} \\phi(u_1) \\\\ \\vdots \\\\ \\phi(u_n) \\end{bmatrix} $$\n",
    "    * For **ReLU**: $$ \\begin{bmatrix} \\phi(u_1) \\\\ \\vdots \\\\ \\phi(u_n) \\end{bmatrix} = \\begin{bmatrix} \\max(0, u_1) \\\\ \\vdots \\\\ \\max(0, u_n) \\end{bmatrix} $$ "
   ]
  },
  {
   "cell_type": "code",
   "execution_count": 7,
   "metadata": {
    "slideshow": {
     "slide_type": "skip"
    }
   },
   "outputs": [],
   "source": [
    "def plot_relu():\n",
    "    x = np.linspace(-5, 5, 1000)\n",
    "    y_relu = list(map(lambda z: relu(z), x))\n",
    "    y_relu_derv = list(map(lambda z: relu(z, deriv=True), x))\n",
    "    fig = plt.figure(figsize=(8,5))\n",
    "    ax1 = fig.add_subplot(1,1,1)\n",
    "    ax1.plot(x, y_relu, label='relu')\n",
    "    ax1.plot(x, y_relu_derv, label='relu derivative')\n",
    "    ax1.grid()\n",
    "    ax1.legend()\n",
    "    ax1.set_xlabel('x')\n",
    "    ax1.set_ylabel('y')\n",
    "    ax1.set_ylim([-1, 2])\n",
    "    ax1.set_title('ReLU Activation Function')"
   ]
  },
  {
   "cell_type": "code",
   "execution_count": 8,
   "metadata": {
    "slideshow": {
     "slide_type": "subslide"
    }
   },
   "outputs": [
    {
     "data": {
      "image/png": "[encoded data removed]",
      "text/plain": [
       "<Figure size 576x360 with 1 Axes>"
      ]
     },
     "metadata": {
      "needs_background": "light"
     },
     "output_type": "display_data"
    }
   ],
   "source": [
    "# plot\n",
    "plot_relu()"
   ]
  },
  {
   "cell_type": "markdown",
   "metadata": {
    "slideshow": {
     "slide_type": "slide"
    }
   },
   "source": [
    "#### <img src=\"https://img.icons8.com/color/96/000000/layers.png\" style=\"height:20px;display:inline\"> The Linear Layer\n",
    "---\n",
    "* **Forward Pass**: $$Z^{(k+1)} = f(Z^{(k)}) = (W^{(k)})^T Z^{(k)} + b^{(k)}$$\n",
    "    * $k$ denotes the $k^{th}$ layer with the corresponding weights and bias $W^{(k)}, b^{(k)}$\n",
    "* **Derivative** with respect to *input* $Z^{(k)}$: $$ \\frac{\\partial Z^{(k+1)}}{\\partial Z^{(k)}} = \\frac{\\partial ((W^{(k)})^T Z^{(k)} + b^{(k)})}{\\partial Z^{(k)}} = (W^{(k)})^T $$ <br> $$ \\delta^{(k)} = \\delta^{(k+1)} (W^{(k)})^T  $$\n",
    "* **Derivative** with respect to the *parameters* $W^{(k)}, b^{(k)}$: $$ \\frac{\\partial Z^{(k+1)}}{\\partial W^{(k)}} = Z^{(k)} ,\\frac{\\partial E}{\\partial W^{(k)}} = \\delta^{(k+1)} Z^{(k)} $$ <br> $$  \\frac{\\partial Z^{(k+1)}}{\\partial b^{(k)}} = I,  \\frac{\\partial E}{\\partial b^{(k)}} = \\delta^{(k+1)}$$"
   ]
  },
  {
   "cell_type": "markdown",
   "metadata": {
    "slideshow": {
     "slide_type": "slide"
    }
   },
   "source": [
    "####  <img src=\"https://img.icons8.com/color/96/000000/layers.png\" style=\"height:20px;display:inline\">  The ReLU Layer\n",
    "---\n",
    "* **Forward Pass**: $$ Z^{(k+1)} = \\begin{bmatrix} max(0,Z_1^{(k)}) \\\\ \\vdots \\\\ max(0,Z_n^{(k)}) \\end{bmatrix}, ReLU(Z): \\mathbb{R}^{n} \\to \\mathbb{R}^n $$\n",
    "* **Derivative** with respect to *input* $Z^{(k)}$: $$ \\phi = max(0,Z^{(k)}), \\phi' = heaviside(Z^{(k)}) $$ <br> $$ \\frac{\\partial Z^{(k+1)}}{\\partial Z^{(k)}} = diag(\\phi') $$ <br> $$ \\delta^{(k)} = \\delta^{(k+1)} diag (\\phi') $$\n",
    "* **Derivative** with respect to the *parameters*: **NO PARAMETERS!**"
   ]
  },
  {
   "cell_type": "markdown",
   "metadata": {
    "slideshow": {
     "slide_type": "slide"
    }
   },
   "source": [
    "####  <img src=\"https://img.icons8.com/color/96/000000/layers.png\" style=\"height:20px;display:inline\">  The MSE Layer \n",
    "---\n",
    "* **Forward Pass**: $$ E = Z^{(k+1)} = (Z^{(k)} - y)^2 $$\n",
    "*  **Derivative** with respect to *input* $Z^{(k)}$: $$ \\delta^{(k+1)} = \\frac{\\partial E}{\\partial Z^{(k+1)}} = \\frac{\\partial E}{\\partial E} = 1 $$ <br> $$ \\frac{\\partial Z^{(k+1)}}{\\partial Z^{(k)}} = 2(Z^{(k)} - y) $$ <br> $$ \\delta^{(k)} = \\delta^{(k+1)} 2(Z^{(k)} - y) =  2(Z^{(k)} - y) $$"
   ]
  },
  {
   "cell_type": "markdown",
   "metadata": {
    "slideshow": {
     "slide_type": "slide"
    }
   },
   "source": [
    "### <img src=\"https://img.icons8.com/dusk/64/000000/fast-forward.png\" style=\"height:50px;display:inline\"> Forward Pass\n",
    "---\n",
    "$$ F(X,W) = W_3^T \\phi_2(W_2^T\\phi_1(W_1^TX + b_1) + b_2) + b_3 $$\n",
    "<img src=\"./assets/tut_12_forward.jpg\" style=\"height:300px\">"
   ]
  },
  {
   "cell_type": "markdown",
   "metadata": {
    "slideshow": {
     "slide_type": "slide"
    }
   },
   "source": [
    "### <img src=\"https://img.icons8.com/dusk/64/000000/rewind.png\" style=\"height:50px;display:inline\"> Backward Pass\n",
    "---\n",
    "<img src=\"./assets/tut_12_backward.jpg\" style=\"height:400px\">"
   ]
  },
  {
   "cell_type": "markdown",
   "metadata": {
    "slideshow": {
     "slide_type": "slide"
    }
   },
   "source": [
    "## <img src=\"https://img.icons8.com/color/96/000000/python.png\" style=\"height:50px;display:inline\"> Scikit-Learn Example\n",
    "---\n",
    "We will now demonstrate how to build an MLP in Scikit-Learn, but it is worth noting:\n",
    "* Every ML researcher has to implement Backpropagation at least once in order to get the deep understanding of how this algorithm works.\n",
    "* It is very uncommon working with neural network using Scikit-Learn. The are frameworks dedicated for NNs, which allow taking advantage of GPUs. Such frameworks (=libraries) are **TensorFlow** (maintained by Google) and **PyTorch** (maintained by Facebook) for example.\n",
    "<img src=\"http://www.freelogovectors.net/wp-content/uploads/2018/07/tensorflow-logo.png\" style=\"height:50px\">\n",
    "<img src=\"https://upload.wikimedia.org/wikipedia/commons/9/96/Pytorch_logo.png\" style=\"height:50px\">"
   ]
  },
  {
   "cell_type": "code",
   "execution_count": 9,
   "metadata": {
    "slideshow": {
     "slide_type": "subslide"
    }
   },
   "outputs": [
    {
     "name": "stdout",
     "output_type": "stream",
     "text": [
      ".. _boston_dataset:\n",
      "\n",
      "Boston house prices dataset\n",
      "---------------------------\n",
      "\n",
      "**Data Set Characteristics:**  \n",
      "\n",
      "    :Number of Instances: 506 \n",
      "\n",
      "    :Number of Attributes: 13 numeric/categorical predictive. Median Value (attribute 14) is usually the target.\n",
      "\n",
      "    :Attribute Information (in order):\n",
      "        - CRIM     per capita crime rate by town\n",
      "        - ZN       proportion of residential land zoned for lots over 25,000 sq.ft.\n",
      "        - INDUS    proportion of non-retail business acres per town\n",
      "        - CHAS     Charles River dummy variable (= 1 if tract bounds river; 0 otherwise)\n",
      "        - NOX      nitric oxides concentration (parts per 10 million)\n",
      "        - RM       average number of rooms per dwelling\n",
      "        - AGE      proportion of owner-occupied units built prior to 1940\n",
      "        - DIS      weighted distances to five Boston employment centres\n",
      "        - RAD      index of accessibility to radial highways\n",
      "        - TAX      full-value property-tax rate per $10,000\n",
      "        - PTRATIO  pupil-teacher ratio by town\n",
      "        - B        1000(Bk - 0.63)^2 where Bk is the proportion of blacks by town\n",
      "        - LSTAT    % lower status of the population\n",
      "        - MEDV     Median value of owner-occupied homes in $1000's\n",
      "\n",
      "    :Missing Attribute Values: None\n",
      "\n",
      "    :Creator: Harrison, D. and Rubinfeld, D.L.\n",
      "\n",
      "This is a copy of UCI ML housing dataset.\n",
      "https://archive.ics.uci.edu/ml/machine-learning-databases/housing/\n",
      "\n",
      "\n",
      "This dataset was taken from the StatLib library which is maintained at Carnegie Mellon University.\n",
      "\n",
      "The Boston house-price data of Harrison, D. and Rubinfeld, D.L. 'Hedonic\n",
      "prices and the demand for clean air', J. Environ. Economics & Management,\n",
      "vol.5, 81-102, 1978.   Used in Belsley, Kuh & Welsch, 'Regression diagnostics\n",
      "...', Wiley, 1980.   N.B. Various transformations are used in the table on\n",
      "pages 244-261 of the latter.\n",
      "\n",
      "The Boston house-price data has been used in many machine learning papers that address regression\n",
      "problems.   \n",
      "     \n",
      ".. topic:: References\n",
      "\n",
      "   - Belsley, Kuh & Welsch, 'Regression diagnostics: Identifying Influential Data and Sources of Collinearity', Wiley, 1980. 244-261.\n",
      "   - Quinlan,R. (1993). Combining Instance-Based and Model-Based Learning. In Proceedings on the Tenth International Conference of Machine Learning, 236-243, University of Massachusetts, Amherst. Morgan Kaufmann.\n",
      "\n"
     ]
    }
   ],
   "source": [
    "# let's load the boston housing dataset\n",
    "boston_dataset = load_boston()\n",
    "# print description of the features\n",
    "print(boston_dataset.DESCR)"
   ]
  },
  {
   "cell_type": "code",
   "execution_count": 10,
   "metadata": {
    "slideshow": {
     "slide_type": "subslide"
    }
   },
   "outputs": [
    {
     "data": {
      "text/html": [
       "<div>\n",
       "<style scoped>\n",
       "    .dataframe tbody tr th:only-of-type {\n",
       "        vertical-align: middle;\n",
       "    }\n",
       "\n",
       "    .dataframe tbody tr th {\n",
       "        vertical-align: top;\n",
       "    }\n",
       "\n",
       "    .dataframe thead th {\n",
       "        text-align: right;\n",
       "    }\n",
       "</style>\n",
       "<table border=\"1\" class=\"dataframe\">\n",
       "  <thead>\n",
       "    <tr style=\"text-align: right;\">\n",
       "      <th></th>\n",
       "      <th>CRIM</th>\n",
       "      <th>ZN</th>\n",
       "      <th>INDUS</th>\n",
       "      <th>CHAS</th>\n",
       "      <th>NOX</th>\n",
       "      <th>RM</th>\n",
       "      <th>AGE</th>\n",
       "      <th>DIS</th>\n",
       "      <th>RAD</th>\n",
       "      <th>TAX</th>\n",
       "      <th>PTRATIO</th>\n",
       "      <th>B</th>\n",
       "      <th>LSTAT</th>\n",
       "      <th>MEDV</th>\n",
       "    </tr>\n",
       "  </thead>\n",
       "  <tbody>\n",
       "    <tr>\n",
       "      <td>311</td>\n",
       "      <td>0.79041</td>\n",
       "      <td>0.0</td>\n",
       "      <td>9.90</td>\n",
       "      <td>0.0</td>\n",
       "      <td>0.544</td>\n",
       "      <td>6.122</td>\n",
       "      <td>52.8</td>\n",
       "      <td>2.6403</td>\n",
       "      <td>4.0</td>\n",
       "      <td>304.0</td>\n",
       "      <td>18.4</td>\n",
       "      <td>396.90</td>\n",
       "      <td>5.98</td>\n",
       "      <td>22.1</td>\n",
       "    </tr>\n",
       "    <tr>\n",
       "      <td>328</td>\n",
       "      <td>0.06617</td>\n",
       "      <td>0.0</td>\n",
       "      <td>3.24</td>\n",
       "      <td>0.0</td>\n",
       "      <td>0.460</td>\n",
       "      <td>5.868</td>\n",
       "      <td>25.8</td>\n",
       "      <td>5.2146</td>\n",
       "      <td>4.0</td>\n",
       "      <td>430.0</td>\n",
       "      <td>16.9</td>\n",
       "      <td>382.44</td>\n",
       "      <td>9.97</td>\n",
       "      <td>19.3</td>\n",
       "    </tr>\n",
       "    <tr>\n",
       "      <td>470</td>\n",
       "      <td>4.34879</td>\n",
       "      <td>0.0</td>\n",
       "      <td>18.10</td>\n",
       "      <td>0.0</td>\n",
       "      <td>0.580</td>\n",
       "      <td>6.167</td>\n",
       "      <td>84.0</td>\n",
       "      <td>3.0334</td>\n",
       "      <td>24.0</td>\n",
       "      <td>666.0</td>\n",
       "      <td>20.2</td>\n",
       "      <td>396.90</td>\n",
       "      <td>16.29</td>\n",
       "      <td>19.9</td>\n",
       "    </tr>\n",
       "    <tr>\n",
       "      <td>46</td>\n",
       "      <td>0.18836</td>\n",
       "      <td>0.0</td>\n",
       "      <td>6.91</td>\n",
       "      <td>0.0</td>\n",
       "      <td>0.448</td>\n",
       "      <td>5.786</td>\n",
       "      <td>33.3</td>\n",
       "      <td>5.1004</td>\n",
       "      <td>3.0</td>\n",
       "      <td>233.0</td>\n",
       "      <td>17.9</td>\n",
       "      <td>396.90</td>\n",
       "      <td>14.15</td>\n",
       "      <td>20.0</td>\n",
       "    </tr>\n",
       "    <tr>\n",
       "      <td>294</td>\n",
       "      <td>0.08199</td>\n",
       "      <td>0.0</td>\n",
       "      <td>13.92</td>\n",
       "      <td>0.0</td>\n",
       "      <td>0.437</td>\n",
       "      <td>6.009</td>\n",
       "      <td>42.3</td>\n",
       "      <td>5.5027</td>\n",
       "      <td>4.0</td>\n",
       "      <td>289.0</td>\n",
       "      <td>16.0</td>\n",
       "      <td>396.90</td>\n",
       "      <td>10.40</td>\n",
       "      <td>21.7</td>\n",
       "    </tr>\n",
       "    <tr>\n",
       "      <td>160</td>\n",
       "      <td>1.27346</td>\n",
       "      <td>0.0</td>\n",
       "      <td>19.58</td>\n",
       "      <td>1.0</td>\n",
       "      <td>0.605</td>\n",
       "      <td>6.250</td>\n",
       "      <td>92.6</td>\n",
       "      <td>1.7984</td>\n",
       "      <td>5.0</td>\n",
       "      <td>403.0</td>\n",
       "      <td>14.7</td>\n",
       "      <td>338.92</td>\n",
       "      <td>5.50</td>\n",
       "      <td>27.0</td>\n",
       "    </tr>\n",
       "    <tr>\n",
       "      <td>87</td>\n",
       "      <td>0.07151</td>\n",
       "      <td>0.0</td>\n",
       "      <td>4.49</td>\n",
       "      <td>0.0</td>\n",
       "      <td>0.449</td>\n",
       "      <td>6.121</td>\n",
       "      <td>56.8</td>\n",
       "      <td>3.7476</td>\n",
       "      <td>3.0</td>\n",
       "      <td>247.0</td>\n",
       "      <td>18.5</td>\n",
       "      <td>395.15</td>\n",
       "      <td>8.44</td>\n",
       "      <td>22.2</td>\n",
       "    </tr>\n",
       "    <tr>\n",
       "      <td>44</td>\n",
       "      <td>0.12269</td>\n",
       "      <td>0.0</td>\n",
       "      <td>6.91</td>\n",
       "      <td>0.0</td>\n",
       "      <td>0.448</td>\n",
       "      <td>6.069</td>\n",
       "      <td>40.0</td>\n",
       "      <td>5.7209</td>\n",
       "      <td>3.0</td>\n",
       "      <td>233.0</td>\n",
       "      <td>17.9</td>\n",
       "      <td>389.39</td>\n",
       "      <td>9.55</td>\n",
       "      <td>21.2</td>\n",
       "    </tr>\n",
       "    <tr>\n",
       "      <td>105</td>\n",
       "      <td>0.13262</td>\n",
       "      <td>0.0</td>\n",
       "      <td>8.56</td>\n",
       "      <td>0.0</td>\n",
       "      <td>0.520</td>\n",
       "      <td>5.851</td>\n",
       "      <td>96.7</td>\n",
       "      <td>2.1069</td>\n",
       "      <td>5.0</td>\n",
       "      <td>384.0</td>\n",
       "      <td>20.9</td>\n",
       "      <td>394.05</td>\n",
       "      <td>16.47</td>\n",
       "      <td>19.5</td>\n",
       "    </tr>\n",
       "    <tr>\n",
       "      <td>418</td>\n",
       "      <td>73.53410</td>\n",
       "      <td>0.0</td>\n",
       "      <td>18.10</td>\n",
       "      <td>0.0</td>\n",
       "      <td>0.679</td>\n",
       "      <td>5.957</td>\n",
       "      <td>100.0</td>\n",
       "      <td>1.8026</td>\n",
       "      <td>24.0</td>\n",
       "      <td>666.0</td>\n",
       "      <td>20.2</td>\n",
       "      <td>16.45</td>\n",
       "      <td>20.62</td>\n",
       "      <td>8.8</td>\n",
       "    </tr>\n",
       "  </tbody>\n",
       "</table>\n",
       "</div>"
      ],
      "text/plain": [
       "         CRIM   ZN  INDUS  CHAS    NOX     RM    AGE     DIS   RAD    TAX  \\\n",
       "311   0.79041  0.0   9.90   0.0  0.544  6.122   52.8  2.6403   4.0  304.0   \n",
       "328   0.06617  0.0   3.24   0.0  0.460  5.868   25.8  5.2146   4.0  430.0   \n",
       "470   4.34879  0.0  18.10   0.0  0.580  6.167   84.0  3.0334  24.0  666.0   \n",
       "46    0.18836  0.0   6.91   0.0  0.448  5.786   33.3  5.1004   3.0  233.0   \n",
       "294   0.08199  0.0  13.92   0.0  0.437  6.009   42.3  5.5027   4.0  289.0   \n",
       "160   1.27346  0.0  19.58   1.0  0.605  6.250   92.6  1.7984   5.0  403.0   \n",
       "87    0.07151  0.0   4.49   0.0  0.449  6.121   56.8  3.7476   3.0  247.0   \n",
       "44    0.12269  0.0   6.91   0.0  0.448  6.069   40.0  5.7209   3.0  233.0   \n",
       "105   0.13262  0.0   8.56   0.0  0.520  5.851   96.7  2.1069   5.0  384.0   \n",
       "418  73.53410  0.0  18.10   0.0  0.679  5.957  100.0  1.8026  24.0  666.0   \n",
       "\n",
       "     PTRATIO       B  LSTAT  MEDV  \n",
       "311     18.4  396.90   5.98  22.1  \n",
       "328     16.9  382.44   9.97  19.3  \n",
       "470     20.2  396.90  16.29  19.9  \n",
       "46      17.9  396.90  14.15  20.0  \n",
       "294     16.0  396.90  10.40  21.7  \n",
       "160     14.7  338.92   5.50  27.0  \n",
       "87      18.5  395.15   8.44  22.2  \n",
       "44      17.9  389.39   9.55  21.2  \n",
       "105     20.9  394.05  16.47  19.5  \n",
       "418     20.2   16.45  20.62   8.8  "
      ]
     },
     "execution_count": 10,
     "metadata": {},
     "output_type": "execute_result"
    }
   ],
   "source": [
    "# the target is the MEDV field - median value of owner-occupied homes in 1000$\n",
    "boston = pd.DataFrame(boston_dataset.data, columns=boston_dataset.feature_names)\n",
    "boston['MEDV'] = boston_dataset.target\n",
    "boston.sample(10)"
   ]
  },
  {
   "cell_type": "code",
   "execution_count": 11,
   "metadata": {
    "slideshow": {
     "slide_type": "subslide"
    }
   },
   "outputs": [
    {
     "name": "stdout",
     "output_type": "stream",
     "text": [
      "total training samples: 404, total test samples: 102\n"
     ]
    }
   ],
   "source": [
    "# splitting to train and test (no need for valdiation, sklearn takes it from the train set)\n",
    "# we will use 2 features\n",
    "x = boston[['RM', 'LSTAT']].values  # RM-num rooms, LSTAT-% lower status of the population\n",
    "y = boston['MEDV'].values\n",
    "x_train, x_test, y_train, y_test = train_test_split(x, y, test_size = 0.2, random_state=5)\n",
    "# scaling\n",
    "x_scaler = StandardScaler()\n",
    "x_scaler.fit(x_train)\n",
    "x_train = x_scaler.transform(x_train)\n",
    "x_test = x_scaler.transform(x_test)\n",
    "print(\"total training samples: {}, total test samples: {}\".format(len(x_train),len(x_test)))"
   ]
  },
  {
   "cell_type": "code",
   "execution_count": 12,
   "metadata": {
    "slideshow": {
     "slide_type": "subslide"
    }
   },
   "outputs": [],
   "source": [
    "# train an MLP\n",
    "# scoring is using the R^2 score -> the best possible score is 1\n",
    "mlp_reg = MLPRegressor(hidden_layer_sizes=(4, 3,),\n",
    "                       activation='relu',\n",
    "                       solver='sgd',\n",
    "                       batch_size=32,\n",
    "                       learning_rate_init=0.001,\n",
    "                       max_iter=200,\n",
    "                       shuffle=True,\n",
    "                       random_state=5,\n",
    "                       early_stopping=True,\n",
    "                       validation_fraction=0.1,\n",
    "                       verbose=True)"
   ]
  },
  {
   "cell_type": "code",
   "execution_count": 13,
   "metadata": {
    "scrolled": true,
    "slideshow": {
     "slide_type": "subslide"
    }
   },
   "outputs": [
    {
     "name": "stdout",
     "output_type": "stream",
     "text": [
      "Iteration 1, loss = 311.17377473\n",
      "Validation score: -5.025490\n",
      "Iteration 2, loss = 268.72251319\n",
      "Validation score: -4.090056\n",
      "Iteration 3, loss = 221.29791391\n",
      "Validation score: -3.238986\n",
      "Iteration 4, loss = 181.01058667\n",
      "Validation score: -2.534500\n",
      "Iteration 5, loss = 148.16609236\n",
      "Validation score: -1.938828\n",
      "Iteration 6, loss = 116.34661767\n",
      "Validation score: -1.140537\n",
      "Iteration 7, loss = 69.69816627\n",
      "Validation score: 0.051736\n",
      "Iteration 8, loss = 25.77497218\n",
      "Validation score: 0.540522\n",
      "Iteration 9, loss = 15.90205835\n",
      "Validation score: 0.577223\n",
      "Iteration 10, loss = 13.61650701\n",
      "Validation score: 0.606377\n",
      "Iteration 11, loss = 12.96205861\n",
      "Validation score: 0.609462\n",
      "Iteration 12, loss = 12.55515383\n",
      "Validation score: 0.623108\n",
      "Iteration 13, loss = 12.32375027\n",
      "Validation score: 0.634032\n",
      "Iteration 14, loss = 12.08402963\n",
      "Validation score: 0.645485\n",
      "Iteration 15, loss = 11.87488789\n",
      "Validation score: 0.648403\n",
      "Iteration 16, loss = 11.43187277\n",
      "Validation score: 0.658779\n",
      "Iteration 17, loss = 11.26966664\n",
      "Validation score: 0.663497\n",
      "Iteration 18, loss = 11.19208310\n",
      "Validation score: 0.674298\n",
      "Iteration 19, loss = 11.13472957\n",
      "Validation score: 0.666873\n",
      "Iteration 20, loss = 11.15699608\n",
      "Validation score: 0.676877\n",
      "Iteration 21, loss = 11.08427796\n",
      "Validation score: 0.675492\n",
      "Iteration 22, loss = 10.88977348\n",
      "Validation score: 0.681250\n",
      "Iteration 23, loss = 10.76642854\n",
      "Validation score: 0.680605\n",
      "Iteration 24, loss = 10.71300689\n",
      "Validation score: 0.686791\n",
      "Iteration 25, loss = 10.80547190\n",
      "Validation score: 0.683455\n",
      "Iteration 26, loss = 10.69159824\n",
      "Validation score: 0.685877\n",
      "Iteration 27, loss = 10.56056444\n",
      "Validation score: 0.687389\n",
      "Iteration 28, loss = 10.42521632\n",
      "Validation score: 0.688858\n",
      "Iteration 29, loss = 10.48946053\n",
      "Validation score: 0.689039\n",
      "Iteration 30, loss = 10.32832853\n",
      "Validation score: 0.696769\n",
      "Iteration 31, loss = 10.18603586\n",
      "Validation score: 0.704198\n",
      "Iteration 32, loss = 10.05947410\n",
      "Validation score: 0.706582\n",
      "Iteration 33, loss = 10.19044429\n",
      "Validation score: 0.706211\n",
      "Iteration 34, loss = 10.01684032\n",
      "Validation score: 0.708056\n",
      "Iteration 35, loss = 10.01955770\n",
      "Validation score: 0.708487\n",
      "Iteration 36, loss = 10.00801058\n",
      "Validation score: 0.710032\n",
      "Iteration 37, loss = 9.87250764\n",
      "Validation score: 0.708921\n",
      "Iteration 38, loss = 9.89419338\n",
      "Validation score: 0.712440\n",
      "Iteration 39, loss = 10.06426791\n",
      "Validation score: 0.714254\n",
      "Iteration 40, loss = 9.93772435\n",
      "Validation score: 0.719554\n",
      "Iteration 41, loss = 9.94274857\n",
      "Validation score: 0.720450\n",
      "Iteration 42, loss = 9.82609378\n",
      "Validation score: 0.722752\n",
      "Iteration 43, loss = 9.64512640\n",
      "Validation score: 0.718780\n",
      "Iteration 44, loss = 9.75976480\n",
      "Validation score: 0.722973\n",
      "Iteration 45, loss = 9.65591169\n",
      "Validation score: 0.723112\n",
      "Iteration 46, loss = 9.78115195\n",
      "Validation score: 0.724884\n",
      "Iteration 47, loss = 9.69174573\n",
      "Validation score: 0.727692\n",
      "Iteration 48, loss = 9.60698201\n",
      "Validation score: 0.721403\n",
      "Iteration 49, loss = 9.61016930\n",
      "Validation score: 0.726065\n",
      "Iteration 50, loss = 9.60675077\n",
      "Validation score: 0.721118\n",
      "Iteration 51, loss = 9.83545758\n",
      "Validation score: 0.726615\n",
      "Iteration 52, loss = 9.54714247\n",
      "Validation score: 0.726878\n",
      "Iteration 53, loss = 9.60241415\n",
      "Validation score: 0.729196\n",
      "Iteration 54, loss = 9.60992152\n",
      "Validation score: 0.729096\n",
      "Iteration 55, loss = 9.42023675\n",
      "Validation score: 0.730153\n",
      "Iteration 56, loss = 9.46561184\n",
      "Validation score: 0.724883\n",
      "Iteration 57, loss = 9.51904526\n",
      "Validation score: 0.729530\n",
      "Iteration 58, loss = 9.39911317\n",
      "Validation score: 0.729139\n",
      "Iteration 59, loss = 9.55070730\n",
      "Validation score: 0.727462\n",
      "Iteration 60, loss = 9.44000212\n",
      "Validation score: 0.729576\n",
      "Iteration 61, loss = 9.28364486\n",
      "Validation score: 0.724464\n",
      "Iteration 62, loss = 10.01713384\n",
      "Validation score: 0.730879\n",
      "Iteration 63, loss = 9.44379694\n",
      "Validation score: 0.731703\n",
      "Iteration 64, loss = 9.31913354\n",
      "Validation score: 0.734320\n",
      "Iteration 65, loss = 9.33178344\n",
      "Validation score: 0.737758\n",
      "Iteration 66, loss = 9.42650623\n",
      "Validation score: 0.735222\n",
      "Iteration 67, loss = 9.40870130\n",
      "Validation score: 0.730186\n",
      "Iteration 68, loss = 9.21574291\n",
      "Validation score: 0.732758\n",
      "Iteration 69, loss = 9.17898517\n",
      "Validation score: 0.731925\n",
      "Iteration 70, loss = 9.26299215\n",
      "Validation score: 0.729684\n",
      "Iteration 71, loss = 9.12722023\n",
      "Validation score: 0.732696\n",
      "Iteration 72, loss = 9.25974393\n",
      "Validation score: 0.731122\n",
      "Iteration 73, loss = 9.21044211\n",
      "Validation score: 0.724620\n",
      "Iteration 74, loss = 9.26834345\n",
      "Validation score: 0.728877\n",
      "Iteration 75, loss = 9.24952838\n",
      "Validation score: 0.729408\n",
      "Iteration 76, loss = 9.29803778\n",
      "Validation score: 0.725133\n",
      "Validation score did not improve more than tol=0.000100 for 10 consecutive epochs. Stopping.\n"
     ]
    },
    {
     "data": {
      "text/plain": [
       "MLPRegressor(activation='relu', alpha=0.0001, batch_size=32, beta_1=0.9,\n",
       "             beta_2=0.999, early_stopping=True, epsilon=1e-08,\n",
       "             hidden_layer_sizes=(4, 3), learning_rate='constant',\n",
       "             learning_rate_init=0.001, max_iter=200, momentum=0.9,\n",
       "             n_iter_no_change=10, nesterovs_momentum=True, power_t=0.5,\n",
       "             random_state=5, shuffle=True, solver='sgd', tol=0.0001,\n",
       "             validation_fraction=0.1, verbose=True, warm_start=False)"
      ]
     },
     "execution_count": 13,
     "metadata": {},
     "output_type": "execute_result"
    }
   ],
   "source": [
    "mlp_reg.fit(x_train, y_train)"
   ]
  },
  {
   "cell_type": "code",
   "execution_count": 14,
   "metadata": {
    "slideshow": {
     "slide_type": "subslide"
    }
   },
   "outputs": [
    {
     "name": "stdout",
     "output_type": "stream",
     "text": [
      "regression using mlp - MSE loss: 14.537\n",
      "original price: $27.9\n",
      "predicted price: $29.250\n"
     ]
    }
   ],
   "source": [
    "# MSE loss\n",
    "y_pred = mlp_reg.predict(x_test)\n",
    "loss = np.mean(np.square(y_test - y_pred))\n",
    "print(\"regression using mlp - MSE loss: {:.3f}\".format(loss))\n",
    "# example\n",
    "sample = 1\n",
    "print(\"original price: ${}\".format(y_test[sample]))\n",
    "print(\"predicted price: ${:.3f}\".format(y_pred[sample]))"
   ]
  },
  {
   "cell_type": "markdown",
   "metadata": {
    "slideshow": {
     "slide_type": "slide"
    }
   },
   "source": [
    "### <img src=\"https://img.icons8.com/office/80/000000/pullups--v2.png\" style=\"height:50px;display:inline\"> Backpropagation By Hand  Exercise\n",
    "---\n",
    "We will now solve a simple backpropagation exercise from <a href=\"https://www.anotsorandomwalk.com/backpropagation-example-with-numbers-step-by-step/\"> A Not So Random Walk </a>. Consider the following network:\n",
    "<img src=\"./assets/tut_12_ex_1.png\" style=\"height:300px\">"
   ]
  },
  {
   "cell_type": "markdown",
   "metadata": {
    "slideshow": {
     "slide_type": "subslide"
    }
   },
   "source": [
    "#### Step 0 - Define Dataset and Network Architecture\n",
    "\n",
    "We will work with one sample for this example, but it can be extended to mini-batches.\n",
    "\n",
    "* Input: $x = \\begin{bmatrix} 1 \\\\ 4 \\\\ 5 \\end{bmatrix} \\in \\mathbb{R}^3$\n",
    "* Output (target): $ t = \\begin{bmatrix} 0.1 \\\\ 0.05 \\end{bmatrix} \\in \\mathbb{R}^2 $\n",
    "* Number of Hidden Layers: 1\n",
    "* Activation: Sigmoid for both hidden and output layers\n",
    "* Loss Functions: MSE"
   ]
  },
  {
   "cell_type": "markdown",
   "metadata": {
    "slideshow": {
     "slide_type": "subslide"
    }
   },
   "source": [
    "#### Step 1 - Initialization\n",
    "\n",
    "We initialize the weights and biases to random values as follows:\n",
    "<img src=\"./assets/tut_12_ex_2.png\" style=\"height:300px\">"
   ]
  },
  {
   "cell_type": "markdown",
   "metadata": {
    "slideshow": {
     "slide_type": "subslide"
    }
   },
   "source": [
    "#### Step 2 - Forward Pass\n",
    "\n",
    "We denote:\n",
    "\n",
    "* $ z_{h_1}, z_{h_2}$ - the weighted output of the hidden neurons **before** activation\n",
    "* $ h_1 = \\sigma(z_{h_1}),  h_2 = \\sigma(z_{h_2})$ - the weighted output of the hidden neurons **after** activation\n",
    "* $ z_{o_1}, z_{o_2}$ - the weighted output of the output neurons **before** activation\n",
    "* $ o_1 = \\sigma(z_{o_1}),  o_2 = \\sigma(z_{o_2})$ - the weighted output of the output neurons **after** activation"
   ]
  },
  {
   "cell_type": "markdown",
   "metadata": {
    "slideshow": {
     "slide_type": "subslide"
    }
   },
   "source": [
    "##### Input -> Hidden Layer\n",
    "\n",
    "* $z_{h_1} = w_1x_1 + w_3x_2 + w_5x_3 + b_1 = 0.1 * 1 + 0.3 *4 + 0.5 * 5 + 0.5 = 4.3$\n",
    "* $h_1 = \\sigma(z_{h_1}) = \\sigma(4.3) = 0.9866$\n",
    "* $z_{h_2} = w_2x_1 + w_4x_2 + w_6x_3 + b_1 = 0.2 * 1 + 0.4 *4 + 0.6 * 5 + 0.5 = 5.3$\n",
    "* $h_2 = \\sigma(z_{h_2}) = \\sigma(4.3) = 0.9950$"
   ]
  },
  {
   "cell_type": "markdown",
   "metadata": {
    "slideshow": {
     "slide_type": "subslide"
    }
   },
   "source": [
    "##### Hidden Layer -> Output Layer\n",
    "\n",
    "* $z_{o_1} = w_7h_1 + w_9h_2 + b_2 = 0.7 *0.9866 + 0.9 * 0.9950 + 0.5 = 2.0862$\n",
    "* $o_1 = \\sigma(z_{o_1}) = \\sigma(2.0862) = 0.8896$\n",
    "* $z_{o_2} = w_8h_1 + w_{10}h_2 + b_2 = 0.8 * 0.9866 + 0.1 * 0.9950 + 0.5 = 1.3888$\n",
    "* $o_2 = \\sigma(z_{o_2}) = \\sigma(1.3888) = 0.8004$"
   ]
  },
  {
   "cell_type": "markdown",
   "metadata": {
    "slideshow": {
     "slide_type": "subslide"
    }
   },
   "source": [
    "#### Step 3 - Calculate Error\n",
    "\n",
    "* MSE: $E = \\frac{1}{2}[(o_1 - t_1)^2 + (o_2 - t_2)^2]$\n",
    "* Derivative w.r.t. the outputs\n",
    "    * $\\frac{\\partial E}{\\partial o_1} = o_1 - t_1 = 0.7896 $\n",
    "    * $\\frac{\\partial E}{\\partial o_2} = o_2 - t_2 = 0.7504 $"
   ]
  },
  {
   "cell_type": "markdown",
   "metadata": {
    "slideshow": {
     "slide_type": "subslide"
    }
   },
   "source": [
    "#### Step 4 - Backropagation\n",
    "\n",
    "* Reminder: $\\sigma'(x) = \\sigma(x) (1 - \\sigma(x))$\n",
    "\n",
    "It is basically applying the chain rule!\n",
    "* $\\frac{\\partial E}{\\partial w_7} = \\frac{\\partial E}{\\partial o_1} \\frac{\\partial o_1}{\\partial z_{o_1}} \\frac{\\partial z_{o_1}}{\\partial w_7} = (o_1 - t_1)(o_1(1-o_1))h_1 = 0.0765$\n",
    "* $\\frac{\\partial E}{\\partial w_8} = \\frac{\\partial E}{\\partial o_2} \\frac{\\partial o_2}{\\partial z_{o_2}} \\frac{\\partial z_{o_2}}{\\partial w_8} = (o_2 - t_2)(o_2(1-o_2))h_1 = 0.1183$\n",
    "* $\\frac{\\partial E}{\\partial w_9} = \\frac{\\partial E}{\\partial o_1} \\frac{\\partial o_1}{\\partial z_{o_1}} \\frac{\\partial z_{o_1}}{\\partial w_9} = 0.0772$\n",
    "* $\\frac{\\partial E}{\\partial w_{10}} = \\frac{\\partial E}{\\partial o_2} \\frac{\\partial o_2}{\\partial z_{o_2}} \\frac{\\partial z_{o_2}}{\\partial w_{10}} = 0.1193$"
   ]
  },
  {
   "cell_type": "markdown",
   "metadata": {
    "slideshow": {
     "slide_type": "subslide"
    }
   },
   "source": [
    "The second bias is a little more complicated as it is affected by both outputs:\n",
    "* $\\frac{\\partial E}{\\partial b_2} = \\frac{\\partial E}{\\partial o_1} \\frac{\\partial o_1}{\\partial z_{o_1}} \\frac{\\partial z_{o_1}}{\\partial b_2} + \\frac{\\partial E}{\\partial o_2} \\frac{\\partial o_2}{\\partial z_{o_2}} \\frac{\\partial z_{o_2}}{\\partial b_2} = 0.1975 $\n",
    "    * $\\frac{\\partial z_{o_1}}{\\partial b_2}, \\frac{\\partial z_{o_2}}{\\partial b_2} = 1$"
   ]
  },
  {
   "cell_type": "markdown",
   "metadata": {
    "slideshow": {
     "slide_type": "subslide"
    }
   },
   "source": [
    "For our convenience, we will calculate the derivatives w.r.t. $h_1, h_2$ first:\n",
    "* $\\frac{\\partial E}{\\partial h_1} = \\frac{\\partial E}{\\partial o_1} \\frac{\\partial o_1}{\\partial z_{o_1}} \\frac{\\partial z_{o_1}}{\\partial h_1} + \\frac{\\partial E}{\\partial o_2} \\frac{\\partial o_2}{\\partial z_{o_2}} \\frac{\\partial z_{o_2}}{\\partial h_1} = 0.1502 $\n",
    "    * $\\frac{\\partial z_{o_1}}{\\partial h_1} = w_7, \\frac{\\partial z_{o_2}}{\\partial h_1} = w_8$\n",
    "* $\\frac{\\partial E}{\\partial h_2} = \\frac{\\partial E}{\\partial o_1} \\frac{\\partial o_1}{\\partial z_{o_1}} \\frac{\\partial z_{o_1}}{\\partial h_2} + \\frac{\\partial E}{\\partial o_2} \\frac{\\partial o_2}{\\partial z_{o_2}} \\frac{\\partial z_{o_2}}{\\partial h_2} = 0.0818 $\n",
    "    * $\\frac{\\partial z_{o_1}}{\\partial h_2} = w_9, \\frac{\\partial z_{o_2}}{\\partial h_2} = w_{10}$"
   ]
  },
  {
   "cell_type": "markdown",
   "metadata": {
    "slideshow": {
     "slide_type": "subslide"
    }
   },
   "source": [
    "Let's continue:\n",
    "* $\\frac{\\partial E}{\\partial w_1} = \\frac{\\partial E}{\\partial h_1} \\frac{\\partial h_1}{\\partial z_{h_1}} \\frac{\\partial z_{h_1}}{\\partial w_1} = 0.0020 $\n",
    "    * $\\frac{\\partial h_1}{\\partial z_{h_1}} = h_1 (1-h_1)$\n",
    "    * $\\frac{\\partial z_{h_1}}{\\partial w_1} = x_1 $\n",
    "* $\\frac{\\partial E}{\\partial w_3} = \\frac{\\partial E}{\\partial h_1} \\frac{\\partial h_1}{\\partial z_{h_1}} \\frac{\\partial z_{h_1}}{\\partial w_3} = 0.0079 $\n",
    "* $\\frac{\\partial E}{\\partial w_5} = \\frac{\\partial E}{\\partial h_1} \\frac{\\partial h_1}{\\partial z_{h_1}} \\frac{\\partial z_{h_1}}{\\partial w_5} = 0.0099 $"
   ]
  },
  {
   "cell_type": "markdown",
   "metadata": {
    "slideshow": {
     "slide_type": "subslide"
    }
   },
   "source": [
    "Similarly:\n",
    "* $\\frac{\\partial E}{\\partial w_2} = \\frac{\\partial E}{\\partial h_2} \\frac{\\partial h_2}{\\partial z_{h_2}} \\frac{\\partial z_{h_2}}{\\partial w_2} = 0.0004 $\n",
    "    * $\\frac{\\partial h_2}{\\partial z_{h_2}} = h_2 (1-h_2)$\n",
    "    * $\\frac{\\partial z_{h_2}}{\\partial w_2} = x_1 $\n",
    "* $\\frac{\\partial E}{\\partial w_4} = \\frac{\\partial E}{\\partial h_2} \\frac{\\partial h_2}{\\partial z_{h_2}} \\frac{\\partial z_{h_2}}{\\partial w_4} = 0.0016 $\n",
    "* $\\frac{\\partial E}{\\partial w_6} = \\frac{\\partial E}{\\partial h_2} \\frac{\\partial h_2}{\\partial z_{h_2}} \\frac{\\partial z_{h_2}}{\\partial w_6} = 0.0020 $"
   ]
  },
  {
   "cell_type": "markdown",
   "metadata": {
    "slideshow": {
     "slide_type": "subslide"
    }
   },
   "source": [
    "The first bias:\n",
    "* $\\frac{\\partial E}{\\partial b_1} =  \\frac{\\partial E}{\\partial o_1} \\frac{\\partial o_1}{\\partial z_{o_1}} \\frac{\\partial z_{o_1}}{\\partial h_1} \\frac{\\partial h_1 }{\\partial z_{h_1}} \\frac{\\partial z_{h_1} }{\\partial b_1} + \\frac{\\partial E}{\\partial o_2} \\frac{\\partial o_2}{\\partial z_{o_2}} \\frac{\\partial z_{o_2}}{\\partial h_2} \\frac{\\partial h_2 }{\\partial z_{h_2}} \\frac{\\partial z_{h_2} }{\\partial b_1} = 0.0008$"
   ]
  },
  {
   "cell_type": "markdown",
   "metadata": {
    "slideshow": {
     "slide_type": "subslide"
    }
   },
   "source": [
    "#### Step 5 - Update Weights\n",
    "\n",
    "We will use learning rate $\\alpha = 0.01$:\n",
    "* $w_1 := w_1 - \\alpha \\frac{\\partial E}{\\partial w_1} = 0.1 - 0.01 * 0.0020 = 0.1$\n",
    "* $w_2 := w_2 - \\alpha \\frac{\\partial E}{\\partial w_2} = 0.2 - 0.01 * 0.0004 = 0.2$\n",
    "* $w_3 := w_3 - \\alpha \\frac{\\partial E}{\\partial w_3} = 0.3 - 0.01 * 0.0079 = 0.2999$\n",
    "* $w_4 := w_4 - \\alpha \\frac{\\partial E}{\\partial w_4} = 0.4 - 0.01 * 0.0016 = 0.4$\n",
    "* $w_5 := w_5 - \\alpha \\frac{\\partial E}{\\partial w_5} = 0.5 - 0.01 * 0.0099 = 0.4999$\n",
    "* $w_6 := w_6 - \\alpha \\frac{\\partial E}{\\partial w_6} = 0.6 - 0.01 * 0.0020 = 0.6$\n",
    "* $w_7 := w_7 - \\alpha \\frac{\\partial E}{\\partial w_7} = 0.7 - 0.01 * 0.0765 = 0.6992$\n",
    "* $w_8 := w_8 - \\alpha \\frac{\\partial E}{\\partial w_8} = 0.8 - 0.01 * 0.1183 = 0.7988$\n",
    "* $w_9 := w_9 - \\alpha \\frac{\\partial E}{\\partial w_9} = 0.9 - 0.01 * 0.0772 = 0.8992$\n",
    "* $w_{10} := w_{10} - \\alpha \\frac{\\partial E}{\\partial w_{10}} = 0.1 - 0.01 * 0.1193 = 0.0988$\n",
    "* $b_1 := b_1 - \\alpha \\frac{\\partial E}{\\partial b_1} = 0.5 - 0.01 * 0.0008 = 0.5$\n",
    "* $b_2 := b_2 - \\alpha \\frac{\\partial E}{\\partial b_2} = 0.5 - 0.01 * 0.1975 = 0.4980$\n",
    "\n",
    "#### Repeat the steps until convergence"
   ]
  },
  {
   "cell_type": "markdown",
   "metadata": {
    "slideshow": {
     "slide_type": "slide"
    }
   },
   "source": [
    "### <img src=\"https://img.icons8.com/bubbles/50/000000/video-playlist.png\" style=\"height:50px;display:inline\"> Recommended Videos\n",
    "---\n",
    "#### <img src=\"https://img.icons8.com/cute-clipart/64/000000/warning-shield.png\" style=\"height:30px;display:inline\"> Warning!\n",
    "* These videos do not replace the lectures and tutorials.\n",
    "* Please use these to get a better understanding of the material, and not as an alternative to the written material.\n",
    "\n",
    "#### Video By Subject\n",
    "\n",
    "* Deep Learning - <a href=\"https://www.youtube.com/watch?v=kPXxbmBsFxs\">Machine Learning Lecture 35 \"Neural Networks / Deep Learning\" -Cornell CS4780</a>\n",
    "    * <a href=\"https://www.youtube.com/watch?v=zmu9wR2c7Z4\">Machine Learning Lecture 36 \"Neural Networks / Deep Learning Continued\" -Cornell CS4780</a>"
   ]
  },
  {
   "cell_type": "markdown",
   "metadata": {
    "slideshow": {
     "slide_type": "skip"
    }
   },
   "source": [
    "## <img src=\"https://img.icons8.com/dusk/64/000000/prize.png\" style=\"height:50px;display:inline\"> Credits\n",
    "---\n",
    "* Icons from <a href=\"https://icons8.com/\">Icon8.com</a> - https://icons8.com\n",
    "* Datasets from <a href=\"https://www.kaggle.com/\">Kaggle</a> - https://www.kaggle.com/\n",
    "* Examples and code snippets were taken from <a href=\"http://shop.oreilly.com/product/0636920052289.do\">\"Hands-On Machine Learning with Scikit-Learn and TensorFlow\"</a>"
   ]
  }
 ],
 "metadata": {
  "kernelspec": {
   "display_name": "Python 3",
   "language": "python",
   "name": "python3"
  },
  "language_info": {
   "codemirror_mode": {
    "name": "ipython",
    "version": 3
   },
   "file_extension": ".py",
   "mimetype": "text/x-python",
   "name": "python",
   "nbconvert_exporter": "python",
   "pygments_lexer": "ipython3",
   "version": "3.6.9"
  }
 },
 "nbformat": 4,
 "nbformat_minor": 2
}
